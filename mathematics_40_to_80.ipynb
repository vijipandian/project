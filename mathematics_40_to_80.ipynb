{
  "cells": [
    {
      "cell_type": "markdown",
      "metadata": {
        "id": "view-in-github",
        "colab_type": "text"
      },
      "source": [
        "<a href=\"https://colab.research.google.com/github/vijipandian/project/blob/main/mathematics_40_to_80.ipynb\" target=\"_parent\"><img src=\"https://colab.research.google.com/assets/colab-badge.svg\" alt=\"Open In Colab\"/></a>"
      ]
    },
    {
      "cell_type": "code",
      "source": [
        "#Given a number N, print its factors.\n",
        "#Input Size : n<=1000\n",
        "#Sample Testcase :\n",
        "#INPUT\n",
        "#6\n",
        "#OUTPUT\n",
        "#1 2 3 6\n",
        "n=int(input())\n",
        "factors=[]\n",
        "for i in range(1,n+1):\n",
        "  if n%i==0:\n",
        "    factors.append(i)\n",
        "print(\" \".join(map(str,factors)))"
      ],
      "metadata": {
        "colab": {
          "base_uri": "https://localhost:8080/"
        },
        "id": "1V1E_vPKLNDQ",
        "outputId": "b2063aad-53fc-4246-a224-210455b9f13b"
      },
      "execution_count": null,
      "outputs": [
        {
          "output_type": "stream",
          "name": "stdout",
          "text": [
            "6\n",
            "1 2 3 6\n"
          ]
        }
      ]
    },
    {
      "cell_type": "code",
      "source": [
        "#Kabali is a brave warrior who with his group of young ninjas moves from one place to another to fight against his opponents. Before Fighting he just calculates one thing, the difference between his ninja number and the opponent's ninja number. From this difference he decides whether to fight or not. Kabali's ninja number is never greater than his opponent.\n",
        "#Input\n",
        "#The input contains two numbers in every line. These two numbers in each line denotes the number ninjas in Kabali's clan and his opponent's clan . print the absolute difference of number of ninjas between Kabali's clan and his opponent's clan. Each output should be in seperate line.\n",
        "#Sample Testcase :\n",
        "#INPUT\n",
        "#100 200\n",
        "#OUTPUT\n",
        "#100\n",
        "n,m=map(int,input().split())\n",
        "if n>m:\n",
        "  diff=n-m\n",
        "else:\n",
        "    diff=m-n\n",
        "print(diff)"
      ],
      "metadata": {
        "colab": {
          "base_uri": "https://localhost:8080/"
        },
        "id": "wGTOyC1MLbyZ",
        "outputId": "09aa6481-b7d9-4b30-b095-dd939da1b324"
      },
      "execution_count": null,
      "outputs": [
        {
          "output_type": "stream",
          "name": "stdout",
          "text": [
            "100 200\n",
            "100\n"
          ]
        }
      ]
    },
    {
      "cell_type": "code",
      "source": [
        "#Given base(B) and height(H) of a triangle find its area.\n",
        "#Input Size : N <= 1000000\n",
        "#Sample Testcase :\n",
        "#INPUT\n",
        "#2 4\n",
        "#OUTPUT\n",
        "#4\n",
        "b,h=map(float,input().split())\n",
        "area=b*h\n",
        "x=(area/2)\n",
        "print(x)"
      ],
      "metadata": {
        "colab": {
          "base_uri": "https://localhost:8080/"
        },
        "id": "WZDUP1PBLbvE",
        "outputId": "7f333322-023a-4c78-8e3a-c74e898728d1"
      },
      "execution_count": null,
      "outputs": [
        {
          "output_type": "stream",
          "name": "stdout",
          "text": [
            "2 4\n",
            "4.0\n"
          ]
        }
      ]
    },
    {
      "cell_type": "code",
      "source": [
        "#You are given a ‘true’ string. String is called true if weight of string is multiple of 8. Your task is to tell whether a string can be declared True or Not. Weight of string is the sum of ASCII value of Vowel character(s) present in the string.\n",
        "#Input Description:\n",
        "#You are given as string ‘s’ in lower cases\n",
        "#Output Description:\n",
        "#Print 1 for true and 0 for false\n",
        "#Sample Input :\n",
        "#raja\n",
        "#Sample Output :\n",
        "#0\n",
        "s=input()\n",
        "vowels='a','e','i','o','u'\n",
        "weight=0\n",
        "for i in s:\n",
        "  if i in vowels:\n",
        "    weight+=ord(i)\n",
        "if weight%8==0:\n",
        "  print(\"1\")\n",
        "else:\n",
        "  print(\"0\")"
      ],
      "metadata": {
        "colab": {
          "base_uri": "https://localhost:8080/"
        },
        "id": "UiiOPYgkLpP5",
        "outputId": "4aa5dffa-fb9b-4e93-fccc-e826c65ed88b"
      },
      "execution_count": null,
      "outputs": [
        {
          "output_type": "stream",
          "name": "stdout",
          "text": [
            "raja\n",
            "0\n"
          ]
        }
      ]
    },
    {
      "cell_type": "code",
      "source": [
        "#Given a number N, check whether it is prime or not. Print 'yes' if it is prime else print 'no'.\n",
        "#Sample Testcase :\n",
        "#INPUT\n",
        "#123\n",
        "#OUTPUT\n",
        "#no\n",
        "n=int(input())\n",
        "if n>1:\n",
        "  for i in range(2,n):\n",
        "    if (n%i==0):\n",
        "       print(\"no\")\n",
        "       break\n",
        "  else:\n",
        "     print(\"yes\")\n",
        "else:\n",
        "  print(\"no\")"
      ],
      "metadata": {
        "id": "feoyhSSAMNJW",
        "colab": {
          "base_uri": "https://localhost:8080/"
        },
        "outputId": "ffe50763-6a1f-4f50-ca64-3bd5a108cab2"
      },
      "execution_count": 1,
      "outputs": [
        {
          "output_type": "stream",
          "name": "stdout",
          "text": [
            "123\n",
            "no\n"
          ]
        }
      ]
    },
    {
      "cell_type": "code",
      "source": [
        "#Given a number N, print the sum of squares of all its digits.\n",
        "#Input Size : 1 <= N <= 100000\n",
        "#Sample Testcase :\n",
        "#INPUT\n",
        "#12\n",
        "#OUTPUT\n",
        "#5\n",
        "\n",
        "n=int(input())\n",
        "sum=0\n",
        "while n!=0:\n",
        "  re=n%10\n",
        "  sq=re*re\n",
        "  sum=sum+sq\n",
        "  n=int(n//10)\n",
        "print(sum)"
      ],
      "metadata": {
        "id": "I8RVZA1UMNF2",
        "colab": {
          "base_uri": "https://localhost:8080/"
        },
        "outputId": "fdfd31e9-9850-4fc0-9c14-926e761c2a4e"
      },
      "execution_count": 2,
      "outputs": [
        {
          "output_type": "stream",
          "name": "stdout",
          "text": [
            "12\n",
            "5\n"
          ]
        }
      ]
    },
    {
      "cell_type": "code",
      "source": [
        "#Given a floating point number with 1 decimal place round it off to nearest greater integer and print it.\n",
        "#Sample Testcase :\n",
        "#INPUT\n",
        "#2.6\n",
        "#OUTPUT\n",
        "#3\n",
        "import math\n",
        "n=float(input())\n",
        "re=math.ceil(n)\n",
        "print(round(re))"
      ],
      "metadata": {
        "id": "glJ4R_-JMNDg",
        "colab": {
          "base_uri": "https://localhost:8080/"
        },
        "outputId": "d2bfdf40-49d2-4b33-af98-5c6f1b53f61c"
      },
      "execution_count": 3,
      "outputs": [
        {
          "output_type": "stream",
          "name": "stdout",
          "text": [
            "2.6\n",
            "3\n"
          ]
        }
      ]
    },
    {
      "cell_type": "code",
      "source": [
        "#In a garage the service man takes 10 minutes to service one car.If there are N cars in garage and X is number of minutes after which one person arrives,Calculate how much time last person has to wait in garage.(Print answer in minutes)\n",
        "#Input Description:\n",
        "#You are given Two numbers ‘N’ and ‘X’\n",
        "#Output Description:\n",
        "#Waiting time of last person\n",
        "#Sample Input :\n",
        "#4 5\n",
        "#Sample Output :\n",
        "#15\n",
        "x,y=map(int,input().split())\n",
        "print((x-1)*10-(x-1)*y)\n"
      ],
      "metadata": {
        "id": "CzIMXXStMNBH",
        "colab": {
          "base_uri": "https://localhost:8080/"
        },
        "outputId": "00fe5851-a2c9-4784-ec08-04da2727a8cb"
      },
      "execution_count": 4,
      "outputs": [
        {
          "output_type": "stream",
          "name": "stdout",
          "text": [
            "4 5\n",
            "15\n"
          ]
        }
      ]
    },
    {
      "cell_type": "code",
      "source": [
        "#Given 3 numbers A,B,C find the sum of Arithmetic Series with a=A, d=B and n=C\n",
        "#Sample Testcase :\n",
        "#INPUT\n",
        "#1 1 2\n",
        "#OUTPUT\n",
        "#3\n",
        "a,b,c=list(map(int,input().split()))\n",
        "x=(c-1)*b\n",
        "y=2*a+x\n",
        "z=(c/2)*y\n",
        "print(round(z))"
      ],
      "metadata": {
        "id": "Q2JpflxdMM-l",
        "colab": {
          "base_uri": "https://localhost:8080/"
        },
        "outputId": "bca72b45-9cd5-410c-ec50-c08626252916"
      },
      "execution_count": 5,
      "outputs": [
        {
          "output_type": "stream",
          "name": "stdout",
          "text": [
            "1 1 2\n",
            "3\n"
          ]
        }
      ]
    },
    {
      "cell_type": "code",
      "source": [
        "#Given numbers A,B find A^B.\n",
        "#Input Size : 1 <= A <= 5 <= B <= 50\n",
        "#Sample Testcase :\n",
        "#INPUT\n",
        "#3 4\n",
        "#OUTPUT\n",
        "#81\n",
        "a,b=map(int,input().split())\n",
        "c=a**b\n",
        "print(c)"
      ],
      "metadata": {
        "colab": {
          "base_uri": "https://localhost:8080/"
        },
        "id": "yq7PVD1_TCsK",
        "outputId": "7484fe7d-986b-4ebb-b66c-704051e28a9a"
      },
      "execution_count": 6,
      "outputs": [
        {
          "output_type": "stream",
          "name": "stdout",
          "text": [
            "3 4\n",
            "81\n"
          ]
        }
      ]
    },
    {
      "cell_type": "code",
      "source": [
        "#Given a number N and an array of N integers, find the sum of all the negative numbers in the array.\n",
        "#Input Size : N <= 100000\n",
        "#Sample Testcase :\n",
        "#INPUT\n",
        "#2\n",
        "#3 0\n",
        "#OUTPUT\n",
        "#0\n",
        "n=int(input())\n",
        "arr=list(map(int,input().split()))\n",
        "sum=0\n",
        "for num in arr:\n",
        "    if num<0:\n",
        "      sum+=num\n",
        "print(sum)"
      ],
      "metadata": {
        "colab": {
          "base_uri": "https://localhost:8080/"
        },
        "id": "dNEPeRReTCov",
        "outputId": "ceeefdc8-773a-4a22-fe60-4b5e6c85e9fc"
      },
      "execution_count": 7,
      "outputs": [
        {
          "output_type": "stream",
          "name": "stdout",
          "text": [
            "2\n",
            "3 0\n",
            "0\n"
          ]
        }
      ]
    },
    {
      "cell_type": "code",
      "source": [
        "#Given 2 numbers N and M add both the numbers and check whether the sum is odd or even.\n",
        "#Sample Testcase :\n",
        "#INPUT\n",
        "#9 2\n",
        "#OUTPUT\n",
        "#odd\n",
        "n,m=map(int,input().split())\n",
        "tot=n+m\n",
        "if tot%2==0:\n",
        "  print(\"even\")\n",
        "else:\n",
        "  print(\"odd\")"
      ],
      "metadata": {
        "colab": {
          "base_uri": "https://localhost:8080/"
        },
        "id": "E4wiiBp4TVHZ",
        "outputId": "ecaf16d5-f2ea-4522-834b-43318f9b5f02"
      },
      "execution_count": 8,
      "outputs": [
        {
          "output_type": "stream",
          "name": "stdout",
          "text": [
            "9 2\n",
            "odd\n"
          ]
        }
      ]
    },
    {
      "cell_type": "code",
      "source": [
        "#You are given a series 3, 20, 63, 144, 275… . Go through the series in order to find the answer.You are given with a number ‘n’. Find the nth number of series.\n",
        "#Input Description:\n",
        "#You are given a number ‘n’\n",
        "#Output Description:\n",
        "#Print the nth number of series.\n",
        "#Sample Input :\n",
        "#4\n",
        "#Sample Output :\n",
        "#144\n",
        "n=int(input())\n",
        "nth_term=2*(n*n*n)+n*n\n",
        "print(nth_term)"
      ],
      "metadata": {
        "colab": {
          "base_uri": "https://localhost:8080/"
        },
        "id": "jnNSz-OdTjdz",
        "outputId": "bf7f9b5c-087c-4c24-9b5b-955d569d2d5d"
      },
      "execution_count": 9,
      "outputs": [
        {
          "output_type": "stream",
          "name": "stdout",
          "text": [
            "4\n",
            "144\n"
          ]
        }
      ]
    },
    {
      "cell_type": "code",
      "source": [
        "#you are given with ‘arasu’ series(shown in example).You have to understand it and you will be given a number ‘n’ ,you have to print the series till n numbers.\n",
        "#Input Description:\n",
        "#You are given a number n;\n",
        "#Output Description:\n",
        "#Print series till nth number\n",
        "#Sample Input :\n",
        "#4\n",
        "#Sample Output :\n",
        "#2 5 10 17\n",
        "n=int(input())\n",
        "x=[2]\n",
        "y=3\n",
        "for i in range(1,n):\n",
        "  a=x[i-1]+y\n",
        "  x.append(a)\n",
        "  y+=2\n",
        "print(*x)"
      ],
      "metadata": {
        "colab": {
          "base_uri": "https://localhost:8080/"
        },
        "id": "BSgyVxgFTuZC",
        "outputId": "4e898420-46f5-474f-8ff8-f8a162f75700"
      },
      "execution_count": 10,
      "outputs": [
        {
          "output_type": "stream",
          "name": "stdout",
          "text": [
            "4\n",
            "2 5 10 17\n"
          ]
        }
      ]
    },
    {
      "cell_type": "code",
      "source": [
        "#Given 3 points check whether they lie on the same line.If they lie on the same line print 'yes' Otherwise print 'no'.\n",
        "#Sample Testcase :\n",
        "#INPUT\n",
        "#0 1\n",
        "#0 0\n",
        "#0 2\n",
        "#OUTPUT\n",
        "#yes\n",
        "x1,y1=list(map(int,input().split()))\n",
        "x2,y2=list(map(int,input().split()))\n",
        "x3,y3=list(map(int,input().split()))\n",
        "a=x1*(y2-y3)+x2*(y3-y1)+x3*(y1-y2)\n",
        "if (a==0):\n",
        "  print(\"yes\")\n",
        "else:\n",
        "  print(\"no\")"
      ],
      "metadata": {
        "colab": {
          "base_uri": "https://localhost:8080/"
        },
        "id": "mu9HDPX7T7NF",
        "outputId": "885999a1-f738-4014-f3b9-c69cc459a38b"
      },
      "execution_count": 11,
      "outputs": [
        {
          "output_type": "stream",
          "name": "stdout",
          "text": [
            "0 1\n",
            "0 0\n",
            "0 2\n",
            "yes\n"
          ]
        }
      ]
    },
    {
      "cell_type": "code",
      "source": [
        "#Prateek finds it difficult to judge the minimum element in the list of elements given to him. Your task is to develop the algorithm in order to find the minimum element.\n",
        "#Input Description:\n",
        "#You are given ‘n’ number of elements. Next line contains n space separated numbers.\n",
        "#Output Description:\n",
        "#Print the minimum element\n",
        "#Sample Input :\n",
        "#5\n",
        "#3 4 9 1 6\n",
        "#Sample Output :\n",
        "#1\n",
        "a=int(input())\n",
        "b=list(map(int,input().split()))\n",
        "print(min(b))"
      ],
      "metadata": {
        "colab": {
          "base_uri": "https://localhost:8080/"
        },
        "id": "jS9Gu4TuT7Jg",
        "outputId": "d1122a94-24ac-4ef3-f859-c1361792441f"
      },
      "execution_count": 12,
      "outputs": [
        {
          "output_type": "stream",
          "name": "stdout",
          "text": [
            "5\n",
            "3 4 9 1 6\n",
            "1\n"
          ]
        }
      ]
    },
    {
      "cell_type": "code",
      "source": [
        "#Given a string S.Validate if a given string is numeric.print 'yes' if it is a numeric otherwise print 'no'.\n",
        "#Sample Testcase :\n",
        "#INPUT\n",
        "#guvigeeks\n",
        "#OUTPUT\n",
        "#no\n",
        "s=input()\n",
        "for char in s:\n",
        "  if char.isnumeric():\n",
        "    print(\"yes\")\n",
        "    break\n",
        "else:\n",
        "  print(\"no\")"
      ],
      "metadata": {
        "colab": {
          "base_uri": "https://localhost:8080/"
        },
        "id": "UQKD7D8sT7HX",
        "outputId": "7c8bd362-9f63-4048-cb79-45cdf203955b"
      },
      "execution_count": 13,
      "outputs": [
        {
          "output_type": "stream",
          "name": "stdout",
          "text": [
            "guvigeeks\n",
            "no\n"
          ]
        }
      ]
    },
    {
      "cell_type": "code",
      "source": [
        "#Given number N, find the minimum factor which yeilds odd number as the quotient.\n",
        "#Input Size : N <= 100000\n",
        "#Sample Testcase :\n",
        "#INPUT\n",
        "#9\n",
        "#OUTPUT\n",
        "#1\n",
        "n=int(input())\n",
        "m=[]\n",
        "for i in range(1,n+1):\n",
        "  if n%i==0 and (n/i)%2!=0:\n",
        "    m.append(i)\n",
        "print(m[0])"
      ],
      "metadata": {
        "colab": {
          "base_uri": "https://localhost:8080/"
        },
        "id": "9c3xvnTWT7E3",
        "outputId": "89a11232-eca2-452d-a68c-4770196fea8b"
      },
      "execution_count": 14,
      "outputs": [
        {
          "output_type": "stream",
          "name": "stdout",
          "text": [
            "9\n",
            "1\n"
          ]
        }
      ]
    },
    {
      "cell_type": "code",
      "source": [
        "#Given 2 numbers N,K print the value of nPk(P-Permutation).\n",
        "#Input Size : K <= N <= 10\n",
        "#Sample Testcase :\n",
        "#INPUT\n",
        "#5 2\n",
        "#OUTPUT\n",
        "#20\n",
        "\n",
        "n,k=list(map(int,input().split()))\n",
        "f=1\n",
        "for i in range(k):\n",
        "  f*=(n-i)\n",
        "print(f)"
      ],
      "metadata": {
        "colab": {
          "base_uri": "https://localhost:8080/"
        },
        "id": "v7pMv7JrUvB7",
        "outputId": "e4cb3754-340c-4380-f5e4-6914cb0fcce8"
      },
      "execution_count": 15,
      "outputs": [
        {
          "output_type": "stream",
          "name": "stdout",
          "text": [
            "5 2\n",
            "20\n"
          ]
        }
      ]
    },
    {
      "cell_type": "code",
      "source": [
        "#Given length L and breadth B of a farm, print the area of the farm upto 5 decimal decimals.\n",
        "#Sample Testcase :\n",
        "#INPUT\n",
        "#1.626 2.31\n",
        "#OUTPUT\n",
        "#3.75606\n",
        "l,b=map(float,input().split())\n",
        "value=l*b\n",
        "value_string = f\"{value:.10f}\"\n",
        "integer, decimal = value_string.split(\".\")\n",
        "truncated_decimal_part = decimal[:5]\n",
        "print(f\"{integer}.{truncated_decimal_part}\")"
      ],
      "metadata": {
        "colab": {
          "base_uri": "https://localhost:8080/"
        },
        "id": "QC22n_wuUu-e",
        "outputId": "27b86417-08e6-45e7-a38d-766d7240c550"
      },
      "execution_count": 16,
      "outputs": [
        {
          "output_type": "stream",
          "name": "stdout",
          "text": [
            "1.626 2.31\n",
            "3.75606\n"
          ]
        }
      ]
    },
    {
      "cell_type": "code",
      "source": [
        "#Given a number N and a number K, find the greatest number which divides both.\n",
        "#Input Size : N and K <= 100000\n",
        "#Sample Testcase :\n",
        "#INPUT\n",
        "#5 10\n",
        "#OUTPUT\n",
        "#5\n",
        "n,k=list(map(int,input().split()))\n",
        "z=k%n\n",
        "if (z==0):\n",
        "  print(n)\n",
        "else:\n",
        "  print(k)"
      ],
      "metadata": {
        "colab": {
          "base_uri": "https://localhost:8080/"
        },
        "id": "ZZxXml9JVHA2",
        "outputId": "c29baf00-ed11-43ea-c60f-b21c6437ff94"
      },
      "execution_count": 17,
      "outputs": [
        {
          "output_type": "stream",
          "name": "stdout",
          "text": [
            "5 10\n",
            "5\n"
          ]
        }
      ]
    },
    {
      "cell_type": "code",
      "source": [
        "#Given a number N in binary format convert it to decimal number.\n",
        "#Input Size : N <= 100000\n",
        "#Sample Testcase :\n",
        "#INPUT\n",
        "#101\n",
        "#OUTPUT\n",
        "#5\n",
        "binary=input()\n",
        "decimal=int(binary,2)\n",
        "print(decimal)"
      ],
      "metadata": {
        "colab": {
          "base_uri": "https://localhost:8080/"
        },
        "id": "_t-lNlT2VP1L",
        "outputId": "5d6d991c-3879-49e9-98d1-b3c4313051a5"
      },
      "execution_count": 18,
      "outputs": [
        {
          "output_type": "stream",
          "name": "stdout",
          "text": [
            "101\n",
            "5\n"
          ]
        }
      ]
    },
    {
      "cell_type": "code",
      "source": [
        "#Given 2 numbers N and K.check if N is a power of K.Print 'yes' if it is a power of k otherwise print 'no'.\n",
        "#Sample Testcase :\n",
        "#INPUT\n",
        "#64 8\n",
        "#OUTPUT\n",
        "#yes\n",
        "n,k=map(int,input().split())\n",
        "sqrt=n**0.5\n",
        "if sqrt==k:\n",
        "  print(\"yes\")\n",
        "else:\n",
        "  print(\"no\")"
      ],
      "metadata": {
        "colab": {
          "base_uri": "https://localhost:8080/"
        },
        "id": "2Oo-OQ7wVYEl",
        "outputId": "519f9000-ab7b-4818-8516-1b90b8a307a3"
      },
      "execution_count": 20,
      "outputs": [
        {
          "output_type": "stream",
          "name": "stdout",
          "text": [
            "64 8\n",
            "yes\n"
          ]
        }
      ]
    },
    {
      "cell_type": "code",
      "source": [
        "#Given an array of N elements switch(swap) the element with the adjacent element and print the output.\n",
        "#Sample Testcase :\n",
        "#INPUT\n",
        "#5\n",
        "#3 2 1 2 3\n",
        "#OUTPUT\n",
        "#2 3 2 1 3\n",
        "n=int(input())\n",
        "a=list(map(int,input().split()))\n",
        "for i in range(0,n-1,2):\n",
        "  a[i],a[i+1]=a[i+1],a[i]\n",
        "print(*a)"
      ],
      "metadata": {
        "colab": {
          "base_uri": "https://localhost:8080/"
        },
        "id": "1Zul65e5V0D2",
        "outputId": "d84b588c-b631-42c7-94e6-5d74c9987096"
      },
      "execution_count": 21,
      "outputs": [
        {
          "output_type": "stream",
          "name": "stdout",
          "text": [
            "5\n",
            "3 2 1 2 3\n",
            "2 3 2 1 3\n"
          ]
        }
      ]
    },
    {
      "cell_type": "code",
      "source": [
        "#Given a number N in decimal convert it into binary value.\n",
        "#Input Size : N <= 100000\n",
        "#Sample Testcase :\n",
        "#INPUT\n",
        "#5\n",
        "#OUTPUT\n",
        "#101\n",
        "n=int(input())\n",
        "bin=[0]*n\n",
        "i=0;\n",
        "while(n>0):\n",
        "  bin[i]=n%2\n",
        "  n=int(n/2)\n",
        "  i+=1\n",
        "for j in range(i-1,-1,-1):\n",
        "  print(bin[j],end=\"\")"
      ],
      "metadata": {
        "colab": {
          "base_uri": "https://localhost:8080/"
        },
        "id": "BOZNZd4IV-U0",
        "outputId": "8e6c95c7-f7cf-4f89-a274-0d649cd084b3"
      },
      "execution_count": 22,
      "outputs": [
        {
          "output_type": "stream",
          "name": "stdout",
          "text": [
            "5\n",
            "101"
          ]
        }
      ]
    },
    {
      "cell_type": "code",
      "source": [
        "#Given 2 numbers N,K print the value of nCk(C-Combination).\n",
        "#Input Size : K <= N <= 10\n",
        "#Sample Testcase :\n",
        "#INPUT\n",
        "#5 2\n",
        "#OUTPUT\n",
        "#10\n",
        "n,k=list(map(int,input().split()))\n",
        "x=n*k\n",
        "print(x)"
      ],
      "metadata": {
        "colab": {
          "base_uri": "https://localhost:8080/"
        },
        "id": "GZNpQcq8WLFQ",
        "outputId": "018f3289-56e7-411e-e038-297d5bb7acbe"
      },
      "execution_count": 23,
      "outputs": [
        {
          "output_type": "stream",
          "name": "stdout",
          "text": [
            "5 2\n",
            "10\n"
          ]
        }
      ]
    },
    {
      "cell_type": "code",
      "source": [
        "#Given 3 numbers A,B,C process and print 'yes' if they can form the sides of a triangle otherwise print 'no'.\n",
        "#Input Size : A,B,C <= 100000\n",
        "#Sample Testcase :\n",
        "#INPUT\n",
        "#3 4 5\n",
        "#OUTPUT\n",
        "#yes\n",
        "a,b,c=list(map(int,input().split()))\n",
        "s=(a+b+c)/2\n",
        "if s*(s-a)*(s-b)*(s-c)**0.5:\n",
        "    print(\"yes\")\n",
        "else:\n",
        "    print(\"no\")\n"
      ],
      "metadata": {
        "colab": {
          "base_uri": "https://localhost:8080/"
        },
        "id": "5CZZ3shIWUBb",
        "outputId": "cf3b0abe-96ee-4a8b-a6b4-ed62cba036cf"
      },
      "execution_count": 24,
      "outputs": [
        {
          "output_type": "stream",
          "name": "stdout",
          "text": [
            "3 4 5\n",
            "yes\n"
          ]
        }
      ]
    }
  ],
  "metadata": {
    "colab": {
      "provenance": [],
      "authorship_tag": "ABX9TyMqJFXAtojB/15gLHPjfHYX",
      "include_colab_link": true
    },
    "kernelspec": {
      "display_name": "Python 3",
      "name": "python3"
    },
    "language_info": {
      "name": "python"
    }
  },
  "nbformat": 4,
  "nbformat_minor": 0
}