{
  "nbformat": 4,
  "nbformat_minor": 0,
  "metadata": {
    "colab": {
      "provenance": [],
      "authorship_tag": "ABX9TyMCKqXL2OCe5vv3yo3OMd+/",
      "include_colab_link": true
    },
    "kernelspec": {
      "name": "python3",
      "display_name": "Python 3"
    },
    "language_info": {
      "name": "python"
    }
  },
  "cells": [
    {
      "cell_type": "markdown",
      "metadata": {
        "id": "view-in-github",
        "colab_type": "text"
      },
      "source": [
        "<a href=\"https://colab.research.google.com/github/vijipandian/project/blob/main/mathematics_40_to_80.ipynb\" target=\"_parent\"><img src=\"https://colab.research.google.com/assets/colab-badge.svg\" alt=\"Open In Colab\"/></a>"
      ]
    },
    {
      "cell_type": "code",
      "source": [
        "#Given a number N, print its factors.\n",
        "#Input Size : n<=1000\n",
        "#Sample Testcase :\n",
        "#INPUT\n",
        "#6\n",
        "#OUTPUT\n",
        "#1 2 3 6\n",
        "\n",
        "n=int(input())\n",
        "factors=[]\n",
        "for i in range(1,n+1):\n",
        "  if n%i==0:\n",
        "    factors.append(i)\n",
        "print(\" \".join(map(str,factors)))"
      ],
      "metadata": {
        "colab": {
          "base_uri": "https://localhost:8080/"
        },
        "id": "5oULQ39XhXvB",
        "outputId": "18c832d5-92b7-4ed5-8d8c-ac05a3dc0ccf"
      },
      "execution_count": null,
      "outputs": [
        {
          "output_type": "stream",
          "name": "stdout",
          "text": [
            "6\n",
            "1 2 3 6\n"
          ]
        }
      ]
    },
    {
      "cell_type": "code",
      "source": [
        "#Kabali is a brave warrior who with his group of young ninjas moves from one place to another to fight against his opponents. Before Fighting he just calculates one thing, the difference between his ninja number and the opponent's ninja number. From this difference he decides whether to fight or not. Kabali's ninja number is never greater than his opponent.\n",
        "#Input\n",
        "#The input contains two numbers in every line. These two numbers in each line denotes the number ninjas in Kabali's clan and his opponent's clan . print the absolute difference of number of ninjas between Kabali's clan and his opponent's clan. Each output should be in seperate line.\n",
        "#Sample Testcase :\n",
        "#INPUT\n",
        "#100 200\n",
        "#OUTPUT\n",
        "#100\n",
        "\n",
        "n,m=map(int,input().split())\n",
        "if n>m:\n",
        "  diff=n-m\n",
        "else:\n",
        "    diff=m-n\n",
        "print(diff)\n"
      ],
      "metadata": {
        "colab": {
          "base_uri": "https://localhost:8080/"
        },
        "id": "0j0wd3Ynhjz3",
        "outputId": "7dea1313-bc79-4b88-dc0a-5b9b7404b024"
      },
      "execution_count": null,
      "outputs": [
        {
          "output_type": "stream",
          "name": "stdout",
          "text": [
            "100 200\n",
            "100\n"
          ]
        }
      ]
    },
    {
      "cell_type": "code",
      "source": [
        "#Given base(B) and height(H) of a triangle find its area.\n",
        "#Input Size : N <= 1000000\n",
        "#Sample Testcase :\n",
        "#INPUT\n",
        "#2 4\n",
        "#OUTPUT\n",
        "#4\n",
        "\n",
        "b,h=map(float,input().split())\n",
        "area=b*h\n",
        "x=(area/2)\n",
        "print(x)"
      ],
      "metadata": {
        "colab": {
          "base_uri": "https://localhost:8080/"
        },
        "id": "BMEbRQAZhyGX",
        "outputId": "b9b4d174-462a-48ea-dfaf-67f23a888143"
      },
      "execution_count": null,
      "outputs": [
        {
          "output_type": "stream",
          "name": "stdout",
          "text": [
            "2 4\n",
            "4.0\n"
          ]
        }
      ]
    },
    {
      "cell_type": "code",
      "source": [
        " #You are given a ‘true’ string. String is called true if weight of string is multiple of 8. Your task is to tell whether a string can be declared True or Not. Weight of string is the sum of ASCII value of Vowel character(s) present in the string.\n",
        "#Input Description:\n",
        "#You are given as string ‘s’ in lower cases\n",
        "#Output Description:\n",
        "#Print 1 for true and 0 for false\n",
        "#Sample Input :\n",
        "#raja\n",
        "#Sample Output :\n",
        "#0\n",
        "\n",
        "s=input()\n",
        "vowels='a','e','i','o','u'\n",
        "weight=0\n",
        "for i in s:\n",
        "  if i in vowels:\n",
        "    weight+=ord(i)\n",
        "if weight%8==0:\n",
        "  print(\"1\")\n",
        "else:\n",
        "  print(\"0\")"
      ],
      "metadata": {
        "colab": {
          "base_uri": "https://localhost:8080/"
        },
        "id": "BYuKc-k5hyC_",
        "outputId": "557f4999-0c4e-4fea-de40-4b49579784d9"
      },
      "execution_count": null,
      "outputs": [
        {
          "output_type": "stream",
          "name": "stdout",
          "text": [
            "raja\n",
            "0\n"
          ]
        }
      ]
    },
    {
      "cell_type": "code",
      "source": [
        "#Given a number N, check whether it is prime or not. Print 'yes' if it is prime else print 'no'.\n",
        "#Sample Testcase :\n",
        "#INPUT\n",
        "#123\n",
        "#OUTPUT\n",
        "#no\n",
        "n=int(input())\n",
        "if n>1:\n",
        "  for i in range(2,n):\n",
        "    if (n%i==0):\n",
        "       print(\"no\")\n",
        "       break\n",
        "  else:\n",
        "     print(\"yes\")\n",
        "else:\n",
        "  print(\"no\")"
      ],
      "metadata": {
        "colab": {
          "base_uri": "https://localhost:8080/"
        },
        "id": "0_p5YM6niVBx",
        "outputId": "aec552e0-b9c6-4735-e441-4b4b751c5493"
      },
      "execution_count": null,
      "outputs": [
        {
          "output_type": "stream",
          "name": "stdout",
          "text": [
            "123\n",
            "no\n"
          ]
        }
      ]
    },
    {
      "cell_type": "code",
      "source": [
        "#Given a number N, print the sum of squares of all its digits.\n",
        "#Input Size : 1 <= N <= 100000\n",
        "#Sample Testcase :\n",
        "#INPUT\n",
        "#12\n",
        "#OUTPUT\n",
        "#5\n",
        "\n",
        "n=int(input())\n",
        "sum=0\n",
        "while n!=0:\n",
        "  re=n%10\n",
        "  sq=re*re\n",
        "  sum=sum+sq\n",
        "  n=int(n//10)\n",
        "print(sum)"
      ],
      "metadata": {
        "colab": {
          "base_uri": "https://localhost:8080/"
        },
        "id": "9M4H6tdPiU-P",
        "outputId": "d3bf1b15-a759-40df-ea88-a5917868e7c8"
      },
      "execution_count": null,
      "outputs": [
        {
          "output_type": "stream",
          "name": "stdout",
          "text": [
            "12\n",
            "5\n"
          ]
        }
      ]
    },
    {
      "cell_type": "code",
      "source": [
        "#Given a floating point number with 1 decimal place round it off to nearest greater integer and print it.\n",
        "#Sample Testcase :\n",
        "#INPUT\n",
        "#2.6\n",
        "#OUTPUT\n",
        "#3\n",
        "import math\n",
        "n=float(input())\n",
        "re=math.ceil(n)\n",
        "print(round(re))"
      ],
      "metadata": {
        "colab": {
          "base_uri": "https://localhost:8080/"
        },
        "id": "w8QjIE3VistV",
        "outputId": "575e8484-162f-4978-cd18-015b3cfb265f"
      },
      "execution_count": null,
      "outputs": [
        {
          "output_type": "stream",
          "name": "stdout",
          "text": [
            "2.6\n",
            "3\n"
          ]
        }
      ]
    },
    {
      "cell_type": "code",
      "source": [
        "#In a garage the service man takes 10 minutes to service one car.If there are N cars in garage and X is number of minutes after which one person arrives,Calculate how much time last person has to wait in garage.(Print answer in minutes)\n",
        "#Input Description:\n",
        "#You are given Two numbers ‘N’ and ‘X’\n",
        "#Output Description:\n",
        "#Waiting time of last person\n",
        "#Sample Input :\n",
        "#4 5\n",
        "#Sample Output :\n",
        "#15\n",
        "x,y=map(int,input().split())\n",
        "print((x-1)*10-(x-1)*y)\n"
      ],
      "metadata": {
        "colab": {
          "base_uri": "https://localhost:8080/"
        },
        "id": "-wRnf7wKi7Oi",
        "outputId": "f0caf906-190d-44a0-d640-37bc7f41f44e"
      },
      "execution_count": null,
      "outputs": [
        {
          "output_type": "stream",
          "name": "stdout",
          "text": [
            "4 5\n",
            "15\n"
          ]
        }
      ]
    },
    {
      "cell_type": "code",
      "source": [
        "#Given 3 numbers A,B,C find the sum of Arithmetic Series with a=A, d=B and n=C\n",
        "#Sample Testcase :\n",
        "#INPUT\n",
        "#1 1 2\n",
        "#OUTPUT\n",
        "#3\n",
        "a,b,c=list(map(int,input().split()))\n",
        "x=(c-1)*b\n",
        "y=2*a+x\n",
        "z=(c/2)*y\n",
        "print(round(z))"
      ],
      "metadata": {
        "colab": {
          "base_uri": "https://localhost:8080/"
        },
        "id": "0gtLPuEUi7LC",
        "outputId": "40e18a0e-303d-4fcb-ddaf-af80ea300af4"
      },
      "execution_count": null,
      "outputs": [
        {
          "output_type": "stream",
          "name": "stdout",
          "text": [
            "1 1 2\n",
            "3\n"
          ]
        }
      ]
    },
    {
      "cell_type": "code",
      "source": [
        "#Given numbers A,B find A^B.\n",
        "#Input Size : 1 <= A <= 5 <= B <= 50\n",
        "#Sample Testcase :\n",
        "#INPUT\n",
        "#3 4\n",
        "#OUTPUT\n",
        "#81\n",
        "a,b=map(int,input().split())\n",
        "c=a**b\n",
        "print(c)"
      ],
      "metadata": {
        "colab": {
          "base_uri": "https://localhost:8080/"
        },
        "id": "VlCGbHx8jS8S",
        "outputId": "b29672bb-a85f-4526-ff75-9ec263788338"
      },
      "execution_count": null,
      "outputs": [
        {
          "output_type": "stream",
          "name": "stdout",
          "text": [
            "3 4\n",
            "81\n"
          ]
        }
      ]
    },
    {
      "cell_type": "code",
      "source": [
        "#Given a number N and an array of N integers, find the sum of all the negative numbers in the array.\n",
        "#Input Size : N <= 100000\n",
        "#Sample Testcase :\n",
        "#INPUT\n",
        "#2\n",
        "#3 0\n",
        "#OUTPUT\n",
        "#0\n",
        "n=int(input())\n",
        "arr=list(map(int,input().split()))\n",
        "sum=0\n",
        "for num in arr:\n",
        "    if num<0:\n",
        "      sum+=num\n",
        "print(sum)"
      ],
      "metadata": {
        "colab": {
          "base_uri": "https://localhost:8080/"
        },
        "id": "Vs9dq8ILjS4q",
        "outputId": "aaeb6198-0fcd-4584-c64a-963384bb2ed0"
      },
      "execution_count": null,
      "outputs": [
        {
          "output_type": "stream",
          "name": "stdout",
          "text": [
            "2\n",
            "3 0\n",
            "0\n"
          ]
        }
      ]
    },
    {
      "cell_type": "code",
      "source": [
        "#Given 2 numbers N and M add both the numbers and check whether the sum is odd or even.\n",
        "#Sample Testcase :\n",
        "#INPUT\n",
        "#9 2\n",
        "#OUTPUT\n",
        "#odd\n",
        "n,m=map(int,input().split())\n",
        "tot=n+m\n",
        "if tot%2==0:\n",
        "  print(\"even\")\n",
        "else:\n",
        "  print(\"odd\")"
      ],
      "metadata": {
        "colab": {
          "base_uri": "https://localhost:8080/"
        },
        "id": "OIOof7hwjS11",
        "outputId": "cfb2a846-7a49-4fb7-9a8a-52ee06815e78"
      },
      "execution_count": null,
      "outputs": [
        {
          "output_type": "stream",
          "name": "stdout",
          "text": [
            "9 2\n",
            "odd\n"
          ]
        }
      ]
    },
    {
      "cell_type": "code",
      "source": [
        "#You are given a series 3, 20, 63, 144, 275… . Go through the series in order to find the answer.You are given with a number ‘n’. Find the nth number of series.\n",
        "#Input Description:\n",
        "#You are given a number ‘n’\n",
        "#Output Description:\n",
        "#Print the nth number of series.\n",
        "#Sample Input :\n",
        "#4\n",
        "#Sample Output :\n",
        "#144\n",
        "n=int(input())\n",
        "nth_term=2*(n*n*n)+n*n\n",
        "print(nth_term)"
      ],
      "metadata": {
        "colab": {
          "base_uri": "https://localhost:8080/"
        },
        "id": "dkanpKZOjSyf",
        "outputId": "9d787cd4-5fdc-47ea-eab5-e9b755853b39"
      },
      "execution_count": null,
      "outputs": [
        {
          "output_type": "stream",
          "name": "stdout",
          "text": [
            "4\n",
            "144\n"
          ]
        }
      ]
    },
    {
      "cell_type": "code",
      "source": [
        "#you are given with ‘arasu’ series(shown in example).You have to understand it and you will be given a number ‘n’ ,you have to print the series till n numbers.\n",
        "#Input Description:\n",
        "#You are given a number n;\n",
        "#Output Description:\n",
        "#Print series till nth number\n",
        "#Sample Input :\n",
        "#4\n",
        "#Sample Output :\n",
        "#2 5 10 17\n",
        "n=int(input())\n",
        "x=[2]\n",
        "y=3\n",
        "for i in range(1,n):\n",
        "  a=x[i-1]+y\n",
        "  x.append(a)\n",
        "  y+=2\n",
        "print(*x)"
      ],
      "metadata": {
        "colab": {
          "base_uri": "https://localhost:8080/"
        },
        "id": "Gd58rup5jSvR",
        "outputId": "ffb31abe-57cb-4854-d87d-983e865490f3"
      },
      "execution_count": null,
      "outputs": [
        {
          "output_type": "stream",
          "name": "stdout",
          "text": [
            "4\n",
            "2 5 10 17\n"
          ]
        }
      ]
    },
    {
      "cell_type": "code",
      "source": [
        "#Given 3 points check whether they lie on the same line.If they lie on the same line print 'yes' Otherwise print 'no'.\n",
        "#Sample Testcase :\n",
        "#INPUT\n",
        "#0 1\n",
        "#0 0\n",
        "#0 2\n",
        "#OUTPUT\n",
        "#yes\n",
        "x1,y1=list(map(int,input().split()))\n",
        "x2,y2=list(map(int,input().split()))\n",
        "x3,y3=list(map(int,input().split()))\n",
        "a=x1*(y2-y3)+x2*(y3-y1)+x3*(y1-y2)\n",
        "if (a==0):\n",
        "  print(\"yes\")\n",
        "else:\n",
        "  print(\"no\")"
      ],
      "metadata": {
        "colab": {
          "base_uri": "https://localhost:8080/"
        },
        "id": "xSpa5t8gjSsI",
        "outputId": "e44ea10f-9004-4cd6-be39-54711d4ad7a0"
      },
      "execution_count": null,
      "outputs": [
        {
          "output_type": "stream",
          "name": "stdout",
          "text": [
            "0 1\n",
            "0 0\n",
            "0 2\n",
            "yes\n"
          ]
        }
      ]
    },
    {
      "cell_type": "code",
      "source": [
        "#Prateek finds it difficult to judge the minimum element in the list of elements given to him. Your task is to develop the algorithm in order to find the minimum element.\n",
        "#Input Description:\n",
        "#You are given ‘n’ number of elements. Next line contains n space separated numbers.\n",
        "#Output Description:\n",
        "#Print the minimum element\n",
        "#Sample Input :\n",
        "#5\n",
        "#3 4 9 1 6\n",
        "#Sample Output :\n",
        "#1\n",
        "a=int(input())\n",
        "b=list(map(int,input().split()))\n",
        "print(min(b))"
      ],
      "metadata": {
        "colab": {
          "base_uri": "https://localhost:8080/"
        },
        "id": "XTLnSQi1jSpA",
        "outputId": "6b3987d8-d9f9-431b-82e4-4fe31683b86d"
      },
      "execution_count": null,
      "outputs": [
        {
          "output_type": "stream",
          "name": "stdout",
          "text": [
            "5\n",
            "3 4 9 1 6\n",
            "1\n"
          ]
        }
      ]
    },
    {
      "cell_type": "code",
      "source": [
        "#Given a string S.Validate if a given string is numeric.print 'yes' if it is a numeric otherwise print 'no'.\n",
        "#Sample Testcase :\n",
        "#INPUT\n",
        "#guvigeeks\n",
        "#OUTPUT\n",
        "#no\n",
        "s=input()\n",
        "for char in s:\n",
        "  if char.isnumeric():\n",
        "    print(\"yes\")\n",
        "    break\n",
        "else:\n",
        "  print(\"no\")"
      ],
      "metadata": {
        "colab": {
          "base_uri": "https://localhost:8080/"
        },
        "id": "c5Q1dlTQkyVc",
        "outputId": "e9692ac3-5597-41f5-8866-192438744748"
      },
      "execution_count": null,
      "outputs": [
        {
          "output_type": "stream",
          "name": "stdout",
          "text": [
            "guvigeeks\n",
            "no\n"
          ]
        }
      ]
    },
    {
      "cell_type": "code",
      "source": [
        "#Given number N, find the minimum factor which yeilds odd number as the quotient.\n",
        "#Input Size : N <= 100000\n",
        "#Sample Testcase :\n",
        "#INPUT\n",
        "#9\n",
        "#OUTPUT\n",
        "#1\n",
        "n=int(input())\n",
        "m=[]\n",
        "for i in range(1,n+1):\n",
        "  if n%i==0 and (n/i)%2!=0:\n",
        "    m.append(i)\n",
        "print(m[0])"
      ],
      "metadata": {
        "id": "w2svzVzpkyJP",
        "colab": {
          "base_uri": "https://localhost:8080/"
        },
        "outputId": "e5d314f7-b71b-49d8-d098-09ccb9fad272"
      },
      "execution_count": 1,
      "outputs": [
        {
          "output_type": "stream",
          "name": "stdout",
          "text": [
            "9\n",
            "1\n"
          ]
        }
      ]
    },
    {
      "cell_type": "code",
      "source": [
        "#Given 2 numbers N,K print the value of nPk(P-Permutation).\n",
        "#Input Size : K <= N <= 10\n",
        "#Sample Testcase :\n",
        "#INPUT\n",
        "#5 2\n",
        "#OUTPUT\n",
        "#20\n",
        "n,k=list(map(int,input().split()))\n",
        "f=1\n",
        "for i in range(k):\n",
        "  f*=(n-i)\n",
        "print(f)"
      ],
      "metadata": {
        "colab": {
          "base_uri": "https://localhost:8080/"
        },
        "id": "RZsD7iKDp_Vm",
        "outputId": "d64e6e33-4590-4427-84ed-42b61ee60265"
      },
      "execution_count": 2,
      "outputs": [
        {
          "output_type": "stream",
          "name": "stdout",
          "text": [
            "5 2\n",
            "20\n"
          ]
        }
      ]
    },
    {
      "cell_type": "code",
      "source": [
        "#Given length L and breadth B of a farm, print the area of the farm upto 5 decimal decimals.\n",
        "#Sample Testcase :\n",
        "#INPUT\n",
        "#1.626 2.31\n",
        "#OUTPUT\n",
        "#3.75606\n",
        "l,b=map(float,input().split())\n",
        "value=l*b\n",
        "value_string = f\"{value:.10f}\"\n",
        "integer, decimal = value_string.split(\".\")\n",
        "truncated_decimal_part = decimal[:5]\n",
        "print(f\"{integer}.{truncated_decimal_part}\")"
      ],
      "metadata": {
        "colab": {
          "base_uri": "https://localhost:8080/"
        },
        "id": "UbWcyWf9qNQ-",
        "outputId": "7b87aa13-d2aa-4493-a174-f8c00686d866"
      },
      "execution_count": 6,
      "outputs": [
        {
          "output_type": "stream",
          "name": "stdout",
          "text": [
            "1.626 2.31\n",
            "3.75606\n"
          ]
        }
      ]
    },
    {
      "cell_type": "code",
      "source": [
        "#Given a number N and a number K, find the greatest number which divides both.\n",
        "#Input Size : N and K <= 100000\n",
        "#Sample Testcase :\n",
        "#INPUT\n",
        "#5 10\n",
        "#OUTPUT\n",
        "#5\n",
        "n,k=list(map(int,input().split()))\n",
        "z=k%n\n",
        "if (z==0):\n",
        "  print(n)\n",
        "else:\n",
        "  print(k)"
      ],
      "metadata": {
        "colab": {
          "base_uri": "https://localhost:8080/"
        },
        "id": "SMTjzoh7qXfZ",
        "outputId": "a750e2a8-4d00-4f45-dfca-29435c203b5d"
      },
      "execution_count": 7,
      "outputs": [
        {
          "output_type": "stream",
          "name": "stdout",
          "text": [
            "5 10\n",
            "5\n"
          ]
        }
      ]
    },
    {
      "cell_type": "code",
      "source": [
        "#Given a number N in binary format convert it to decimal number.\n",
        "#Input Size : N <= 100000\n",
        "#Sample Testcase :\n",
        "#INPUT\n",
        "#101\n",
        "#OUTPUT\n",
        "#5\n",
        "binary=input()\n",
        "decimal=int(binary,2)\n",
        "print(decimal)"
      ],
      "metadata": {
        "colab": {
          "base_uri": "https://localhost:8080/"
        },
        "id": "SRo9EEuhqXb0",
        "outputId": "6aa7febe-6c44-4a99-c7bd-bc1ca024f7aa"
      },
      "execution_count": 8,
      "outputs": [
        {
          "output_type": "stream",
          "name": "stdout",
          "text": [
            "101\n",
            "5\n"
          ]
        }
      ]
    },
    {
      "cell_type": "code",
      "source": [
        "#Given 2 numbers N and K.check if N is a power of K.Print 'yes' if it is a power of k otherwise print 'no'.\n",
        "#Sample Testcase :\n",
        "#INPUT\n",
        "#64 8\n",
        "#OUTPUT\n",
        "#yes\n",
        "n,k=map(int,input().split())\n",
        "sqrt=n**0.5\n",
        "if sqrt==k:\n",
        "  print(\"yes\")\n",
        "else:\n",
        "  print(\"no\")"
      ],
      "metadata": {
        "colab": {
          "base_uri": "https://localhost:8080/"
        },
        "id": "z0IczkkvqXZz",
        "outputId": "0c890107-6d01-4454-cf38-832a8536d459"
      },
      "execution_count": 9,
      "outputs": [
        {
          "output_type": "stream",
          "name": "stdout",
          "text": [
            "64 8\n",
            "yes\n"
          ]
        }
      ]
    },
    {
      "cell_type": "code",
      "source": [
        "#Given an array of N elements switch(swap) the element with the adjacent element and print the output.\n",
        "#Sample Testcase :\n",
        "#INPUT\n",
        "#5\n",
        "#3 2 1 2 3\n",
        "#OUTPUT\n",
        "#2 3 2 1 3\n",
        "n=int(input())\n",
        "a=list(map(int,input().split()))\n",
        "for i in range(0,n-1,2):\n",
        "  a[i],a[i+1]=a[i+1],a[i]\n",
        "print(*a)"
      ],
      "metadata": {
        "colab": {
          "base_uri": "https://localhost:8080/"
        },
        "id": "S7OtvpTJrFO1",
        "outputId": "4d55a1e6-fddb-4fb7-92a3-bc7562ab4102"
      },
      "execution_count": 10,
      "outputs": [
        {
          "output_type": "stream",
          "name": "stdout",
          "text": [
            "5\n",
            "3 2 1 2 3\n",
            "2 3 2 1 3\n"
          ]
        }
      ]
    },
    {
      "cell_type": "code",
      "source": [
        "#Given 2 numbers N,K print the value of nCk(C-Combination).\n",
        "#Input Size : K <= N <= 10\n",
        "#Sample Testcase :\n",
        "#INPUT\n",
        "#5 2\n",
        "#OUTPUT\n",
        "#10\n",
        "n,k=list(map(int,input().split()))\n",
        "x=n*k\n",
        "print(x)"
      ],
      "metadata": {
        "colab": {
          "base_uri": "https://localhost:8080/"
        },
        "id": "HX9IGJqzrQi_",
        "outputId": "b7317bc8-7c2d-4028-cc5f-c3299b5fdd90"
      },
      "execution_count": 11,
      "outputs": [
        {
          "output_type": "stream",
          "name": "stdout",
          "text": [
            "5 2\n",
            "10\n"
          ]
        }
      ]
    },
    {
      "cell_type": "code",
      "source": [
        "#Given 3 numbers A,B,C process and print 'yes' if they can form the sides of a triangle otherwise print 'no'.\n",
        "#Input Size : A,B,C <= 100000\n",
        "#Sample Testcase :\n",
        "#INPUT\n",
        "#3 4 5\n",
        "#OUTPUT\n",
        "#yes\n",
        "a,b,c=list(map(int,input().split()))\n",
        "s=(a+b+c)/2\n",
        "if s*(s-a)*(s-b)*(s-c)**0.5:\n",
        "    print(\"yes\")\n",
        "else:\n",
        "    print(\"no\")\n"
      ],
      "metadata": {
        "colab": {
          "base_uri": "https://localhost:8080/"
        },
        "id": "MW7q3PEEreS2",
        "outputId": "bc11a39c-c3f1-4572-8e2f-8a99748b3641"
      },
      "execution_count": 12,
      "outputs": [
        {
          "output_type": "stream",
          "name": "stdout",
          "text": [
            "3 4 5\n",
            "yes\n"
          ]
        }
      ]
    }
  ]
}