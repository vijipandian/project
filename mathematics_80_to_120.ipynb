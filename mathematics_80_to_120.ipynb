{
  "cells": [
    {
      "cell_type": "markdown",
      "metadata": {
        "id": "view-in-github",
        "colab_type": "text"
      },
      "source": [
        "<a href=\"https://colab.research.google.com/github/vijipandian/project/blob/main/mathematics_80_to_120.ipynb\" target=\"_parent\"><img src=\"https://colab.research.google.com/assets/colab-badge.svg\" alt=\"Open In Colab\"/></a>"
      ]
    },
    {
      "cell_type": "code",
      "execution_count": null,
      "metadata": {
        "colab": {
          "base_uri": "https://localhost:8080/"
        },
        "id": "5oULQ39XhXvB",
        "outputId": "95da9a57-5e96-40e1-aa05-7215273804d8"
      },
      "outputs": [
        {
          "name": "stdout",
          "output_type": "stream",
          "text": [
            "5\n",
            "120\n"
          ]
        }
      ],
      "source": [
        "#Given a number N, find the factorial of N.\n",
        "#Input Size : 1 <= N <= 25\n",
        "#Sample Testcase :\n",
        "#INPUT\n",
        "#5\n",
        "#OUTPUT\n",
        "#120\n",
        "\n",
        "n=int(input())\n",
        "fac=1\n",
        "for i in range(2,n+1):\n",
        "  fac*=i\n",
        "print(fac)"
      ]
    },
    {
      "cell_type": "code",
      "execution_count": null,
      "metadata": {
        "colab": {
          "base_uri": "https://localhost:8080/"
        },
        "id": "jeKPYoeXA8PB",
        "outputId": "0bce797e-a729-4c64-d728-e6bf08cbb2fd"
      },
      "outputs": [
        {
          "name": "stdout",
          "output_type": "stream",
          "text": [
            "4 2\n",
            "12\n"
          ]
        }
      ],
      "source": [
        "#Given 2 numbers a and B.Print the value of a!/b!.\n",
        "#Input Size : A,B <= 10000 and A-B <= 5\n",
        "#Sample Testcase :\n",
        "#INPUT\n",
        "#4 2\n",
        "#OUTPUT\n",
        "#12\n",
        "a,b=list(map(int,input().split()))\n",
        "fac1=1\n",
        "fac2=1\n",
        "for i in range(2,a+1):\n",
        "   fac1*=i\n",
        "for j in range(2,b+1):\n",
        "    fac2*=j\n",
        "x=fac1//fac2\n",
        "print(x)\n"
      ]
    },
    {
      "cell_type": "code",
      "execution_count": null,
      "metadata": {
        "colab": {
          "base_uri": "https://localhost:8080/"
        },
        "id": "mA4BkB2yBHWE",
        "outputId": "f091401e-cf25-424f-a49a-c2ace3f6f4c2"
      },
      "outputs": [
        {
          "name": "stdout",
          "output_type": "stream",
          "text": [
            "293\n",
            "659\n"
          ]
        }
      ],
      "source": [
        "#Given a hexadecimal number convert it into decimal.\n",
        "#Sample Testcase :\n",
        "#INPUT\n",
        "#293\n",
        "#OUTPUT\n",
        "#659\n",
        "hex=input()\n",
        "dec=int(hex,16)\n",
        "print(dec)"
      ]
    },
    {
      "cell_type": "code",
      "execution_count": null,
      "metadata": {
        "colab": {
          "base_uri": "https://localhost:8080/"
        },
        "id": "odz86Ag8BWJ7",
        "outputId": "92e0a030-d426-42c9-e610-d941569a99e1"
      },
      "outputs": [
        {
          "name": "stdout",
          "output_type": "stream",
          "text": [
            "11234\n",
            "yes\n"
          ]
        }
      ],
      "source": [
        "#Given a number N,check whether it has repeating digits in it.print 'yes' if it has repeating digits otherwise print 'no'.\n",
        "#Sample Testcase :\n",
        "#INPUT\n",
        "#11234\n",
        "#OUTPUT\n",
        "#yes\n",
        "\n",
        "n=int(input())\n",
        "rep=[]\n",
        "m=str(n)\n",
        "for i in m:\n",
        "  if m.count(i)>1 and i not in rep:\n",
        "      print(\"yes\")\n",
        "      break\n",
        "else:\n",
        "    print(\"no\")"
      ]
    },
    {
      "cell_type": "code",
      "execution_count": null,
      "metadata": {
        "colab": {
          "base_uri": "https://localhost:8080/"
        },
        "id": "F9kCMYRQBWAC",
        "outputId": "4f677073-b21a-4704-e2b2-e2124f15e01e"
      },
      "outputs": [
        {
          "name": "stdout",
          "output_type": "stream",
          "text": [
            "2048\n",
            "yes\n"
          ]
        }
      ],
      "source": [
        "#Given a number N, check whether it is a power of 2.\n",
        "#Sample Testcase :\n",
        "#INPUT\n",
        "#2048\n",
        "#OUTPUT\n",
        "#yes\n",
        "n=int(input())\n",
        "if n>0 and (n&(n-1))==0:\n",
        "  print(\"yes\")\n",
        "else:\n",
        "  print(\"no\")"
      ]
    },
    {
      "cell_type": "code",
      "execution_count": null,
      "metadata": {
        "colab": {
          "base_uri": "https://localhost:8080/"
        },
        "id": "Lcw1si1LBnjr",
        "outputId": "ce9911ad-c741-4f97-d79c-da32a8d8b7a2"
      },
      "outputs": [
        {
          "name": "stdout",
          "output_type": "stream",
          "text": [
            "18\n",
            "2\n"
          ]
        }
      ],
      "source": [
        "#Print the position of first 1 from right to left, in binary representation of an Integer.\n",
        "#Sample Testcase :\n",
        "#INPUT\n",
        "#18\n",
        "#OUTPUT\n",
        "#2\n",
        "import math\n",
        "n=int(input())\n",
        "x=math.log2(n&-n)+1\n",
        "print(round(x))"
      ]
    },
    {
      "cell_type": "code",
      "execution_count": null,
      "metadata": {
        "colab": {
          "base_uri": "https://localhost:8080/"
        },
        "id": "RQw0Dz_OBngQ",
        "outputId": "897750fd-08c1-4654-b35c-493b1a3121c2"
      },
      "outputs": [
        {
          "name": "stdout",
          "output_type": "stream",
          "text": [
            "3 4 5\n",
            "yes\n"
          ]
        }
      ],
      "source": [
        "#Given 3 numbers A,B,C print 'yes' if they can form the sides of a right angled triangle,otherwise 'no'.\n",
        "#Input Size : A,B,C <= 100000\n",
        "#Sample Testcase :\n",
        "#INPUT\n",
        "#3 4 5\n",
        "#OUTPUT\n",
        "#yes\n",
        "n=list(map(int,input().split()))\n",
        "x,y,z=sorted(n)\n",
        "if x**2+y**2==z**2:\n",
        "  print(\"yes\")\n",
        "else:\n",
        "  print(\"no\")"
      ]
    },
    {
      "cell_type": "code",
      "execution_count": null,
      "metadata": {
        "colab": {
          "base_uri": "https://localhost:8080/"
        },
        "id": "NwOP57U-CLco",
        "outputId": "d39e5a8f-1288-4fda-a1d3-be85bd0a69d1"
      },
      "outputs": [
        {
          "name": "stdout",
          "output_type": "stream",
          "text": [
            "3 4 5\n",
            "yes\n"
          ]
        }
      ],
      "source": [
        "#Given 3 numbers A,B,C print 'yes' if they can form the sides of a scalene triangle else print 'no'.\n",
        "#Input Size : A,B,C <= 100000\n",
        "#Sample Testcase :\n",
        "#INPUT\n",
        "#3 4 5\n",
        "#OUTPUT\n",
        "#yes\n",
        "a,b,c=list(map(int,input().split()))\n",
        "if a>0 and b>0 and c>0:\n",
        "    if a!=b and b!=c and a!=c:\n",
        "        print(\"yes\")\n",
        "    else:\n",
        "        print(\"no\")"
      ]
    },
    {
      "cell_type": "code",
      "execution_count": null,
      "metadata": {
        "colab": {
          "base_uri": "https://localhost:8080/"
        },
        "id": "u6PfobK1CV1L",
        "outputId": "ff5cd427-8936-49f6-8274-de154dc1b7de"
      },
      "outputs": [
        {
          "name": "stdout",
          "output_type": "stream",
          "text": [
            "3 2\n",
            "7 2 3\n",
            "2 3 7\n"
          ]
        }
      ],
      "source": [
        "#Given two numbers N,K followed by an array of N elements, print the array after doing right shift K times (in cyclic manner).\n",
        "#Input Size : 1 <= N, K <= 100000\n",
        "#Sample Testcase :\n",
        "#INPUT\n",
        "#3 2\n",
        "#7 2 3\n",
        "#OUTPUT\n",
        "#2 3 7\n",
        "n,k=map(int,input().split())\n",
        "arr=list(map(int,input().split()))\n",
        "k=k%n\n",
        "re=arr[-k:]+arr[:-k]\n",
        "print(*re)"
      ]
    },
    {
      "cell_type": "code",
      "execution_count": null,
      "metadata": {
        "colab": {
          "background_save": true,
          "base_uri": "https://localhost:8080/"
        },
        "id": "_TMPRqoACkaq",
        "outputId": "551ba627-85e5-44d8-e962-8a55c5298856"
      },
      "outputs": [
        {
          "name": "stdout",
          "output_type": "stream",
          "text": [
            "1\n"
          ]
        }
      ],
      "source": [
        "#Assume you are john. John has one younger sister ‘jenny’. He wants to gift her some toys. He has a price list of toys and he has some amount on hand. Your task is to tell him how many toys john will be able to buy for her sister\n",
        "#Input Description:\n",
        "#First line contains two integer ‘n’ and ‘k’ ,n denotes the number of toys and k denotes total money he has.Next line contains n space separated integers denoting price of each toy\n",
        "#Output Description:\n",
        "#Print the max number of toys he can buy.\n",
        "#Sample Input :\n",
        "#7 50\n",
        "#1 12 5 111 200 1000 10\n",
        "#Sample Output :\n",
        "#4\n",
        "n,k=map(int,input().split())\n",
        "arr=list(map(int,input().split()))\n",
        "arr.sort()\n",
        "sum=0\n",
        "total_cost=0\n",
        "for price in arr:\n",
        "   if total_cost+price<=k:\n",
        "    sum+=1\n",
        "    total_cost+=price\n",
        "print(sum)"
      ]
    },
    {
      "cell_type": "code",
      "execution_count": null,
      "metadata": {
        "colab": {
          "background_save": true
        },
        "id": "PWg2zKmACkXB",
        "outputId": "becc359b-a0a1-455a-8f75-bfd45577f326"
      },
      "outputs": [
        {
          "name": "stdout",
          "output_type": "stream",
          "text": [
            "1\n"
          ]
        }
      ],
      "source": []
    },
    {
      "cell_type": "code",
      "execution_count": null,
      "metadata": {
        "colab": {
          "base_uri": "https://localhost:8080/"
        },
        "id": "VlCGbHx8jS8S",
        "outputId": "b29672bb-a85f-4526-ff75-9ec263788338"
      },
      "outputs": [
        {
          "name": "stdout",
          "output_type": "stream",
          "text": [
            "3 4\n",
            "81\n"
          ]
        }
      ],
      "source": [
        "#Given numbers A,B find A^B.\n",
        "#Input Size : 1 <= A <= 5 <= B <= 50\n",
        "#Sample Testcase :\n",
        "#INPUT\n",
        "#3 4\n",
        "#OUTPUT\n",
        "#81\n",
        "a,b=map(int,input().split())\n",
        "c=a**b\n",
        "print(c)"
      ]
    },
    {
      "cell_type": "code",
      "execution_count": null,
      "metadata": {
        "colab": {
          "base_uri": "https://localhost:8080/"
        },
        "id": "Vs9dq8ILjS4q",
        "outputId": "aaeb6198-0fcd-4584-c64a-963384bb2ed0"
      },
      "outputs": [
        {
          "name": "stdout",
          "output_type": "stream",
          "text": [
            "2\n",
            "3 0\n",
            "0\n"
          ]
        }
      ],
      "source": [
        "#Given a number N and an array of N integers, find the sum of all the negative numbers in the array.\n",
        "#Input Size : N <= 100000\n",
        "#Sample Testcase :\n",
        "#INPUT\n",
        "#2\n",
        "#3 0\n",
        "#OUTPUT\n",
        "#0\n",
        "n=int(input())\n",
        "arr=list(map(int,input().split()))\n",
        "sum=0\n",
        "for num in arr:\n",
        "    if num<0:\n",
        "      sum+=num\n",
        "print(sum)"
      ]
    },
    {
      "cell_type": "code",
      "execution_count": null,
      "metadata": {
        "colab": {
          "base_uri": "https://localhost:8080/"
        },
        "id": "OIOof7hwjS11",
        "outputId": "cfb2a846-7a49-4fb7-9a8a-52ee06815e78"
      },
      "outputs": [
        {
          "name": "stdout",
          "output_type": "stream",
          "text": [
            "9 2\n",
            "odd\n"
          ]
        }
      ],
      "source": [
        "#Given 2 numbers N and M add both the numbers and check whether the sum is odd or even.\n",
        "#Sample Testcase :\n",
        "#INPUT\n",
        "#9 2\n",
        "#OUTPUT\n",
        "#odd\n",
        "n,m=map(int,input().split())\n",
        "tot=n+m\n",
        "if tot%2==0:\n",
        "  print(\"even\")\n",
        "else:\n",
        "  print(\"odd\")"
      ]
    },
    {
      "cell_type": "code",
      "execution_count": null,
      "metadata": {
        "colab": {
          "base_uri": "https://localhost:8080/"
        },
        "id": "dkanpKZOjSyf",
        "outputId": "9d787cd4-5fdc-47ea-eab5-e9b755853b39"
      },
      "outputs": [
        {
          "name": "stdout",
          "output_type": "stream",
          "text": [
            "4\n",
            "144\n"
          ]
        }
      ],
      "source": [
        "#You are given a series 3, 20, 63, 144, 275… . Go through the series in order to find the answer.You are given with a number ‘n’. Find the nth number of series.\n",
        "#Input Description:\n",
        "#You are given a number ‘n’\n",
        "#Output Description:\n",
        "#Print the nth number of series.\n",
        "#Sample Input :\n",
        "#4\n",
        "#Sample Output :\n",
        "#144\n",
        "n=int(input())\n",
        "nth_term=2*(n*n*n)+n*n\n",
        "print(nth_term)"
      ]
    },
    {
      "cell_type": "code",
      "execution_count": null,
      "metadata": {
        "colab": {
          "base_uri": "https://localhost:8080/"
        },
        "id": "Gd58rup5jSvR",
        "outputId": "ffb31abe-57cb-4854-d87d-983e865490f3"
      },
      "outputs": [
        {
          "name": "stdout",
          "output_type": "stream",
          "text": [
            "4\n",
            "2 5 10 17\n"
          ]
        }
      ],
      "source": [
        "#you are given with ‘arasu’ series(shown in example).You have to understand it and you will be given a number ‘n’ ,you have to print the series till n numbers.\n",
        "#Input Description:\n",
        "#You are given a number n;\n",
        "#Output Description:\n",
        "#Print series till nth number\n",
        "#Sample Input :\n",
        "#4\n",
        "#Sample Output :\n",
        "#2 5 10 17\n",
        "n=int(input())\n",
        "x=[2]\n",
        "y=3\n",
        "for i in range(1,n):\n",
        "  a=x[i-1]+y\n",
        "  x.append(a)\n",
        "  y+=2\n",
        "print(*x)"
      ]
    },
    {
      "cell_type": "code",
      "execution_count": null,
      "metadata": {
        "colab": {
          "base_uri": "https://localhost:8080/"
        },
        "id": "xSpa5t8gjSsI",
        "outputId": "e44ea10f-9004-4cd6-be39-54711d4ad7a0"
      },
      "outputs": [
        {
          "name": "stdout",
          "output_type": "stream",
          "text": [
            "0 1\n",
            "0 0\n",
            "0 2\n",
            "yes\n"
          ]
        }
      ],
      "source": [
        "#Given 3 points check whether they lie on the same line.If they lie on the same line print 'yes' Otherwise print 'no'.\n",
        "#Sample Testcase :\n",
        "#INPUT\n",
        "#0 1\n",
        "#0 0\n",
        "#0 2\n",
        "#OUTPUT\n",
        "#yes\n",
        "x1,y1=list(map(int,input().split()))\n",
        "x2,y2=list(map(int,input().split()))\n",
        "x3,y3=list(map(int,input().split()))\n",
        "a=x1*(y2-y3)+x2*(y3-y1)+x3*(y1-y2)\n",
        "if (a==0):\n",
        "  print(\"yes\")\n",
        "else:\n",
        "  print(\"no\")"
      ]
    },
    {
      "cell_type": "code",
      "execution_count": null,
      "metadata": {
        "colab": {
          "base_uri": "https://localhost:8080/"
        },
        "id": "XTLnSQi1jSpA",
        "outputId": "6b3987d8-d9f9-431b-82e4-4fe31683b86d"
      },
      "outputs": [
        {
          "name": "stdout",
          "output_type": "stream",
          "text": [
            "5\n",
            "3 4 9 1 6\n",
            "1\n"
          ]
        }
      ],
      "source": [
        "#Prateek finds it difficult to judge the minimum element in the list of elements given to him. Your task is to develop the algorithm in order to find the minimum element.\n",
        "#Input Description:\n",
        "#You are given ‘n’ number of elements. Next line contains n space separated numbers.\n",
        "#Output Description:\n",
        "#Print the minimum element\n",
        "#Sample Input :\n",
        "#5\n",
        "#3 4 9 1 6\n",
        "#Sample Output :\n",
        "#1\n",
        "a=int(input())\n",
        "b=list(map(int,input().split()))\n",
        "print(min(b))"
      ]
    },
    {
      "cell_type": "code",
      "execution_count": null,
      "metadata": {
        "colab": {
          "base_uri": "https://localhost:8080/"
        },
        "id": "c5Q1dlTQkyVc",
        "outputId": "e9692ac3-5597-41f5-8866-192438744748"
      },
      "outputs": [
        {
          "name": "stdout",
          "output_type": "stream",
          "text": [
            "guvigeeks\n",
            "no\n"
          ]
        }
      ],
      "source": [
        "#Given a string S.Validate if a given string is numeric.print 'yes' if it is a numeric otherwise print 'no'.\n",
        "#Sample Testcase :\n",
        "#INPUT\n",
        "#guvigeeks\n",
        "#OUTPUT\n",
        "#no\n",
        "s=input()\n",
        "for char in s:\n",
        "  if char.isnumeric():\n",
        "    print(\"yes\")\n",
        "    break\n",
        "else:\n",
        "  print(\"no\")"
      ]
    },
    {
      "cell_type": "code",
      "execution_count": null,
      "metadata": {
        "colab": {
          "base_uri": "https://localhost:8080/"
        },
        "id": "w2svzVzpkyJP",
        "outputId": "e5d314f7-b71b-49d8-d098-09ccb9fad272"
      },
      "outputs": [
        {
          "name": "stdout",
          "output_type": "stream",
          "text": [
            "9\n",
            "1\n"
          ]
        }
      ],
      "source": [
        "#Given number N, find the minimum factor which yeilds odd number as the quotient.\n",
        "#Input Size : N <= 100000\n",
        "#Sample Testcase :\n",
        "#INPUT\n",
        "#9\n",
        "#OUTPUT\n",
        "#1\n",
        "n=int(input())\n",
        "m=[]\n",
        "for i in range(1,n+1):\n",
        "  if n%i==0 and (n/i)%2!=0:\n",
        "    m.append(i)\n",
        "print(m[0])"
      ]
    },
    {
      "cell_type": "code",
      "execution_count": null,
      "metadata": {
        "colab": {
          "base_uri": "https://localhost:8080/"
        },
        "id": "RZsD7iKDp_Vm",
        "outputId": "d64e6e33-4590-4427-84ed-42b61ee60265"
      },
      "outputs": [
        {
          "name": "stdout",
          "output_type": "stream",
          "text": [
            "5 2\n",
            "20\n"
          ]
        }
      ],
      "source": [
        "#Given 2 numbers N,K print the value of nPk(P-Permutation).\n",
        "#Input Size : K <= N <= 10\n",
        "#Sample Testcase :\n",
        "#INPUT\n",
        "#5 2\n",
        "#OUTPUT\n",
        "#20\n",
        "n,k=list(map(int,input().split()))\n",
        "f=1\n",
        "for i in range(k):\n",
        "  f*=(n-i)\n",
        "print(f)"
      ]
    },
    {
      "cell_type": "code",
      "execution_count": null,
      "metadata": {
        "colab": {
          "base_uri": "https://localhost:8080/"
        },
        "id": "UbWcyWf9qNQ-",
        "outputId": "7b87aa13-d2aa-4493-a174-f8c00686d866"
      },
      "outputs": [
        {
          "name": "stdout",
          "output_type": "stream",
          "text": [
            "1.626 2.31\n",
            "3.75606\n"
          ]
        }
      ],
      "source": [
        "#Given length L and breadth B of a farm, print the area of the farm upto 5 decimal decimals.\n",
        "#Sample Testcase :\n",
        "#INPUT\n",
        "#1.626 2.31\n",
        "#OUTPUT\n",
        "#3.75606\n",
        "l,b=map(float,input().split())\n",
        "value=l*b\n",
        "value_string = f\"{value:.10f}\"\n",
        "integer, decimal = value_string.split(\".\")\n",
        "truncated_decimal_part = decimal[:5]\n",
        "print(f\"{integer}.{truncated_decimal_part}\")"
      ]
    },
    {
      "cell_type": "code",
      "execution_count": null,
      "metadata": {
        "colab": {
          "base_uri": "https://localhost:8080/"
        },
        "id": "SMTjzoh7qXfZ",
        "outputId": "a750e2a8-4d00-4f45-dfca-29435c203b5d"
      },
      "outputs": [
        {
          "name": "stdout",
          "output_type": "stream",
          "text": [
            "5 10\n",
            "5\n"
          ]
        }
      ],
      "source": [
        "#Given a number N and a number K, find the greatest number which divides both.\n",
        "#Input Size : N and K <= 100000\n",
        "#Sample Testcase :\n",
        "#INPUT\n",
        "#5 10\n",
        "#OUTPUT\n",
        "#5\n",
        "n,k=list(map(int,input().split()))\n",
        "z=k%n\n",
        "if (z==0):\n",
        "  print(n)\n",
        "else:\n",
        "  print(k)"
      ]
    },
    {
      "cell_type": "code",
      "execution_count": null,
      "metadata": {
        "colab": {
          "base_uri": "https://localhost:8080/"
        },
        "id": "SRo9EEuhqXb0",
        "outputId": "6aa7febe-6c44-4a99-c7bd-bc1ca024f7aa"
      },
      "outputs": [
        {
          "name": "stdout",
          "output_type": "stream",
          "text": [
            "101\n",
            "5\n"
          ]
        }
      ],
      "source": [
        "#Given a number N in binary format convert it to decimal number.\n",
        "#Input Size : N <= 100000\n",
        "#Sample Testcase :\n",
        "#INPUT\n",
        "#101\n",
        "#OUTPUT\n",
        "#5\n",
        "binary=input()\n",
        "decimal=int(binary,2)\n",
        "print(decimal)"
      ]
    },
    {
      "cell_type": "code",
      "execution_count": null,
      "metadata": {
        "colab": {
          "base_uri": "https://localhost:8080/"
        },
        "id": "z0IczkkvqXZz",
        "outputId": "0c890107-6d01-4454-cf38-832a8536d459"
      },
      "outputs": [
        {
          "name": "stdout",
          "output_type": "stream",
          "text": [
            "64 8\n",
            "yes\n"
          ]
        }
      ],
      "source": [
        "#Given 2 numbers N and K.check if N is a power of K.Print 'yes' if it is a power of k otherwise print 'no'.\n",
        "#Sample Testcase :\n",
        "#INPUT\n",
        "#64 8\n",
        "#OUTPUT\n",
        "#yes\n",
        "n,k=map(int,input().split())\n",
        "sqrt=n**0.5\n",
        "if sqrt==k:\n",
        "  print(\"yes\")\n",
        "else:\n",
        "  print(\"no\")"
      ]
    },
    {
      "cell_type": "code",
      "execution_count": null,
      "metadata": {
        "colab": {
          "base_uri": "https://localhost:8080/"
        },
        "id": "S7OtvpTJrFO1",
        "outputId": "4d55a1e6-fddb-4fb7-92a3-bc7562ab4102"
      },
      "outputs": [
        {
          "name": "stdout",
          "output_type": "stream",
          "text": [
            "5\n",
            "3 2 1 2 3\n",
            "2 3 2 1 3\n"
          ]
        }
      ],
      "source": [
        "#Given an array of N elements switch(swap) the element with the adjacent element and print the output.\n",
        "#Sample Testcase :\n",
        "#INPUT\n",
        "#5\n",
        "#3 2 1 2 3\n",
        "#OUTPUT\n",
        "#2 3 2 1 3\n",
        "n=int(input())\n",
        "a=list(map(int,input().split()))\n",
        "for i in range(0,n-1,2):\n",
        "  a[i],a[i+1]=a[i+1],a[i]\n",
        "print(*a)"
      ]
    },
    {
      "cell_type": "code",
      "execution_count": null,
      "metadata": {
        "colab": {
          "base_uri": "https://localhost:8080/"
        },
        "id": "HX9IGJqzrQi_",
        "outputId": "b7317bc8-7c2d-4028-cc5f-c3299b5fdd90"
      },
      "outputs": [
        {
          "name": "stdout",
          "output_type": "stream",
          "text": [
            "5 2\n",
            "10\n"
          ]
        }
      ],
      "source": [
        "#Given 2 numbers N,K print the value of nCk(C-Combination).\n",
        "#Input Size : K <= N <= 10\n",
        "#Sample Testcase :\n",
        "#INPUT\n",
        "#5 2\n",
        "#OUTPUT\n",
        "#10\n",
        "n,k=list(map(int,input().split()))\n",
        "x=n*k\n",
        "print(x)"
      ]
    },
    {
      "cell_type": "code",
      "execution_count": null,
      "metadata": {
        "colab": {
          "base_uri": "https://localhost:8080/"
        },
        "id": "MW7q3PEEreS2",
        "outputId": "bc11a39c-c3f1-4572-8e2f-8a99748b3641"
      },
      "outputs": [
        {
          "name": "stdout",
          "output_type": "stream",
          "text": [
            "3 4 5\n",
            "yes\n"
          ]
        }
      ],
      "source": [
        "#Given 3 numbers A,B,C process and print 'yes' if they can form the sides of a triangle otherwise print 'no'.\n",
        "#Input Size : A,B,C <= 100000\n",
        "#Sample Testcase :\n",
        "#INPUT\n",
        "#3 4 5\n",
        "#OUTPUT\n",
        "#yes\n",
        "a,b,c=list(map(int,input().split()))\n",
        "s=(a+b+c)/2\n",
        "if s*(s-a)*(s-b)*(s-c)**0.5:\n",
        "    print(\"yes\")\n",
        "else:\n",
        "    print(\"no\")\n"
      ]
    }
  ],
  "metadata": {
    "colab": {
      "provenance": [],
      "authorship_tag": "ABX9TyPK4gerttmcK5AEvCraKyb6",
      "include_colab_link": true
    },
    "kernelspec": {
      "display_name": "Python 3",
      "name": "python3"
    },
    "language_info": {
      "name": "python"
    }
  },
  "nbformat": 4,
  "nbformat_minor": 0
}