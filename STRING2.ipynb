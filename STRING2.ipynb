{
  "cells": [
    {
      "cell_type": "markdown",
      "metadata": {
        "id": "view-in-github",
        "colab_type": "text"
      },
      "source": [
        "<a href=\"https://colab.research.google.com/github/vijipandian/project/blob/main/STRING2.ipynb\" target=\"_parent\"><img src=\"https://colab.research.google.com/assets/colab-badge.svg\" alt=\"Open In Colab\"/></a>"
      ]
    },
    {
      "cell_type": "code",
      "execution_count": null,
      "metadata": {
        "colab": {
          "base_uri": "https://localhost:8080/"
        },
        "id": "pGn6AQxgUY46",
        "outputId": "65bb2987-edf3-4a58-efca-60226fc8c7ea"
      },
      "outputs": [
        {
          "name": "stdout",
          "output_type": "stream",
          "text": [
            "I was born on 12 october 1998\n",
            "1998\n"
          ]
        }
      ],
      "source": [
        "#1.You are given with a string which comprises of some numbers. Your task is to find the largest integer by converting the string to the corresponding integer.\n",
        "#Input Description:\n",
        "#First line contains n denoting number of Test Cases. The first and only Line of testcase has the string\n",
        "\n",
        "#Output Description:\n",
        "#Print the largest number\n",
        "\n",
        "#Sample Input :\n",
        " #I was born on 12 october 1998.\n",
        "#Sample Output :\n",
        "#1998\n",
        "\n",
        "a=input()\n",
        "b=a.replace(\".\",\" \")\n",
        "c=[]\n",
        "for i in b.split():\n",
        "  if i.isnumeric():\n",
        "    c.append(int(i))\n",
        "\n",
        "print(max(c))\n"
      ]
    },
    {
      "cell_type": "code",
      "execution_count": null,
      "metadata": {
        "colab": {
          "base_uri": "https://localhost:8080/"
        },
        "id": "xI3G4tLNVCEh",
        "outputId": "f927b57b-e58a-4b50-dbf9-a069f5d10619"
      },
      "outputs": [
        {
          "name": "stdout",
          "output_type": "stream",
          "text": [
            "abc\n",
            "294\n"
          ]
        }
      ],
      "source": [
        "#2.Given a string 'S' print the sum of weight of the String. A weight of character is defined as the ASCII value of corresponding character.\n",
        "#Input Description:\n",
        "#You are given a string ‘s’\n",
        "\n",
        "#Output Description:\n",
        "#Print weight\n",
        "\n",
        "#Sample Input :\n",
        "#abc\n",
        "#Sample Output :\n",
        "#294\n",
        "\n",
        "n=input()\n",
        "m=list(map(ord,n))\n",
        "print(sum(m))\n"
      ]
    },
    {
      "cell_type": "code",
      "execution_count": null,
      "metadata": {
        "colab": {
          "base_uri": "https://localhost:8080/"
        },
        "id": "19KezCngVB3h",
        "outputId": "4fb63f77-c82f-4228-e19f-80f2cd16ab6c"
      },
      "outputs": [
        {
          "name": "stdout",
          "output_type": "stream",
          "text": [
            "hello\n",
            "he*lo\n"
          ]
        }
      ],
      "source": [
        "#3.Given a string S, print it after changing the middle element to * (if the length of the string is even, change the 2 middle elements to *).\n",
        "#Sample Testcase :\n",
        "#INPUT\n",
        "#hello\n",
        "#OUTPUT\n",
        "#he*lo\n",
        "\n",
        "s=input().strip()\n",
        "length=len(s)\n",
        "middle=length //2\n",
        "if length%2==0:\n",
        "  print(s[:middle-1]+\"**\"+s[middle+1:])\n",
        "else:\n",
        "  print(s[:middle]+\"*\"+s[middle+1:])"
      ]
    },
    {
      "cell_type": "code",
      "execution_count": null,
      "metadata": {
        "colab": {
          "base_uri": "https://localhost:8080/"
        },
        "id": "IT5eipiPVB0G",
        "outputId": "000c61a2-ac9d-41d0-beea-6f3b5fc612b7"
      },
      "outputs": [
        {
          "name": "stdout",
          "output_type": "stream",
          "text": [
            "codekata\n",
            "yes\n"
          ]
        }
      ],
      "source": [
        "#4.Given a string S, print 'yes' if it has a vowel in it else print 'no'.\n",
        "#Sample Testcase :\n",
        "#INPUT\n",
        "#codekata\n",
        "#OUTPUT\n",
        "#yes\n",
        "s=input()\n",
        "vowels=(\"a\",\"e\",\"i\",\"o\",\"u\")\n",
        "s=s.lower()\n",
        "cou=0\n",
        "for char in s:\n",
        "  if char in vowels:\n",
        "    cou=cou+1\n",
        "  else:\n",
        "    cou=cou\n",
        "if cou>0:\n",
        "  print(\"yes\")\n",
        "\n",
        "else:\n",
        "  print(\"no\")\n"
      ]
    },
    {
      "cell_type": "code",
      "execution_count": 1,
      "metadata": {
        "colab": {
          "base_uri": "https://localhost:8080/"
        },
        "id": "P_9WSm5NVBxj",
        "outputId": "4df72c9c-2b60-48d0-eff5-3eef20581a0a"
      },
      "outputs": [
        {
          "output_type": "stream",
          "name": "stdout",
          "text": [
            "The sun rises in the east\n",
            "sun east\n"
          ]
        }
      ],
      "source": [
        "#5.You are given a paragraph.Your task is to print the words that come just after articles.\n",
        "#Input Description:\n",
        "#You are given a string ‘s’\n",
        "\n",
        "#Output Description:\n",
        "#print the words that come just after articles and -1 if there are no articles\n",
        "\n",
        "#Sample Input :\n",
        "#The sun rises in the east\n",
        "\n",
        "#Sample Output :\n",
        "#sun east\n",
        "\n",
        "s=input()\n",
        "articles={'a','an','the'}\n",
        "words=s.split()\n",
        "result=[]\n",
        "for i in range(len(words)-1):\n",
        "  if words[i].lower() in articles:\n",
        "    result.append(words[i+1])\n",
        "if result:\n",
        "  print(\" \".join(result))\n",
        "else:\n",
        "  print(-1)\n"
      ]
    },
    {
      "cell_type": "code",
      "execution_count": 3,
      "metadata": {
        "id": "64l1LOyFVBut",
        "colab": {
          "base_uri": "https://localhost:8080/"
        },
        "outputId": "283adc8c-09f8-4b05-8d5d-017139c48a64"
      },
      "outputs": [
        {
          "output_type": "stream",
          "name": "stdout",
          "text": [
            "Amz\n",
            "1\n"
          ]
        }
      ],
      "source": [
        "#6.You are given a string ‘s’. Your task is to tell whether string is beautiful or not.A beautiful string is a string in which String starts with ‘a’ or ‘A’ and middle element is either ‘m’ or ‘M’ and last element is ‘z’or ‘Z’\n",
        "#Input Description:\n",
        "#You are given a string ‘s’.\n",
        "\n",
        "#Output Description:\n",
        "#Print 1 if string is beautiful and 0 if it is not\n",
        "\n",
        "#Sample Input :\n",
        "#Amz\n",
        "#Sample Output :\n",
        "#1\n",
        "\n",
        "s=input().strip()\n",
        "\n",
        "if len(s)>=3 and s[0]=='A' and s[len(s)//2]=='m' and s[-1]=='z':\n",
        "    print(\"1\")\n",
        "else:\n",
        "  print(\"0\")\n"
      ]
    },
    {
      "cell_type": "code",
      "source": [
        "#7.You are given string ‘s’. Your task is to modify the string as mentioned below:-\n",
        "#1)The string should not have three consecutive same characters.\n",
        "#2)You can add any number of characters anywhere in the string. Find the minimum number of characters which Ishaan must insert in the string.\n",
        "#Input Description:\n",
        "#You are given a string ‘s’\n",
        "\n",
        "#Output Description:\n",
        "#print the required answer in a new line.\n",
        "\n",
        "#Sample Input :\n",
        "#aabbbcc\n",
        "#Sample Output :\n",
        "#1\n",
        "\n",
        "\n",
        "s=input()\n",
        "arr=[]\n",
        "x=0\n",
        "for i in s:\n",
        "  arr.append(i)\n",
        "for i in range(len(s)-2):\n",
        "  if arr[i] == arr[i+1] and arr[i] == arr[i+2]:\n",
        "    x+=1\n",
        "print(x)\n"
      ],
      "metadata": {
        "colab": {
          "base_uri": "https://localhost:8080/"
        },
        "id": "AgiCJxTIvh1V",
        "outputId": "d479745b-8428-47fd-a47d-7f9778b15243"
      },
      "execution_count": 4,
      "outputs": [
        {
          "output_type": "stream",
          "name": "stdout",
          "text": [
            "aabbbcc\n",
            "1\n"
          ]
        }
      ]
    },
    {
      "cell_type": "code",
      "source": [
        "#8 Jennyfer is fond of strings. She wants to read the character from right to left (reverse the string), so she wants you to design a suitable algorithm which satisfy her desire.\n",
        "#Input Description:\n",
        "#Enter the string ‘s’\n",
        "\n",
        "#Output Description:\n",
        "#Print the string from characters right to left.\n",
        "\n",
        "#Sample Input :\n",
        "#jennyfer\n",
        "#Sample Output :\n",
        "#Refynnej\n",
        "\n",
        "\n",
        "s=input()\n",
        "t=s[8::-1]\n",
        "x=t.capitalize()\n",
        "print(x)\n"
      ],
      "metadata": {
        "colab": {
          "base_uri": "https://localhost:8080/"
        },
        "id": "kxB9XWNJvx23",
        "outputId": "0fbe24ef-123b-477c-a5c9-389dd8f9ae3a"
      },
      "execution_count": 5,
      "outputs": [
        {
          "output_type": "stream",
          "name": "stdout",
          "text": [
            "jennyfer\n",
            "Refynnej\n"
          ]
        }
      ]
    },
    {
      "cell_type": "code",
      "source": [
        "#8.Rahul is given a task to manipulate a string, He hired you as a developer your task is to delete all the repeating characters and print the result left.\n",
        "#Input Description:\n",
        "#You are given a string ‘s’\n",
        "\n",
        "#Output Description:\n",
        "#Print the remaining string\n",
        "\n",
        "#Sample Input :\n",
        "#mississipie\n",
        "#Sample Output :\n",
        "#mpe\n",
        "\n",
        "s=input()\n",
        "x=\"\"\n",
        "for char in s:\n",
        "  if s.count(char)<=1:\n",
        "    x=x+char\n",
        "print(x)"
      ],
      "metadata": {
        "colab": {
          "base_uri": "https://localhost:8080/"
        },
        "id": "p7x6bBaQwA0t",
        "outputId": "fb7a9a56-7f2e-469f-b3b3-debf8420b258"
      },
      "execution_count": 6,
      "outputs": [
        {
          "output_type": "stream",
          "name": "stdout",
          "text": [
            "mississipie\n",
            "mpe\n"
          ]
        }
      ]
    },
    {
      "cell_type": "code",
      "source": [
        "#9.You are given a ‘true’ string. String is called true if weight of string is multiple of 8. Your task is to tell whether a string can be declared True or Not. Weight of string is the sum of ASCII value of Vowel character(s) present in the string.\n",
        "#Input Description:\n",
        "#You are given as string ‘s’ in lower cases\n",
        "\n",
        "#Output Description:\n",
        "#Print 1 for true and 0 for false\n",
        "\n",
        "#Sample Input :\n",
        "#raja\n",
        "#Sample Output :\n",
        "#0\n",
        "\n",
        "s=input()\n",
        "vowels='a','e','i','o','u'\n",
        "weight=0\n",
        "for i in s:\n",
        "  if i in vowels:\n",
        "    weight+=ord(i)\n",
        "if weight%8==0:\n",
        "  print(\"1\")\n",
        "else:\n",
        "  print(\"0\")"
      ],
      "metadata": {
        "colab": {
          "base_uri": "https://localhost:8080/"
        },
        "id": "O-ZZwWAYwQ09",
        "outputId": "f786c578-5847-4617-a353-e18bead916d2"
      },
      "execution_count": 7,
      "outputs": [
        {
          "output_type": "stream",
          "name": "stdout",
          "text": [
            "raja\n",
            "0\n"
          ]
        }
      ]
    },
    {
      "cell_type": "code",
      "source": [
        "#10.Given a string S, print 'yes' if it is a palindrome or 'no' if it is not a palindrome.\n",
        "#Sample Testcase :\n",
        "#INPUT\n",
        "#lappal\n",
        "#OUTPUT\n",
        "#yes\n",
        "\n",
        "\n",
        "\n",
        "\n",
        "\n",
        "s=input()\n",
        "rev=s[::-1]\n",
        "if s==rev:\n",
        "  print(\"yes\")\n",
        "else:\n",
        "  print(\"no\")"
      ],
      "metadata": {
        "colab": {
          "base_uri": "https://localhost:8080/"
        },
        "id": "_-fyvEMPwQxi",
        "outputId": "4766e370-8703-4c62-e8fe-4b2100219add"
      },
      "execution_count": 8,
      "outputs": [
        {
          "output_type": "stream",
          "name": "stdout",
          "text": [
            "lappal\n",
            "yes\n"
          ]
        }
      ]
    },
    {
      "cell_type": "code",
      "source": [
        "#11.You are given a string ‘s’. Your task is to find whether string is beautiful or not. A string is said to be beautiful whenever string is made up of only three characters. All the three characters must be distinct. Print true if string is beautiful and false when it is not beautiful\n",
        "#Input Description:\n",
        "#You are given a string\n",
        "\n",
        "#Output Description:\n",
        "#Print ‘1’ when string is beautiful and ‘0’ when it is not\n",
        "\n",
        "#Sample Input :\n",
        "#Aab\n",
        "#Sample Output :\n",
        "#1\n",
        "\n",
        "s=input()\n",
        "if len(s)==len(set(s)):\n",
        "  print(1)\n",
        "else:\n",
        "  print(0)\n"
      ],
      "metadata": {
        "colab": {
          "base_uri": "https://localhost:8080/"
        },
        "id": "tN462gJYwsa8",
        "outputId": "8e1608ab-79a9-4718-9366-08120cc5f22f"
      },
      "execution_count": 9,
      "outputs": [
        {
          "output_type": "stream",
          "name": "stdout",
          "text": [
            "Aab\n",
            "1\n"
          ]
        }
      ]
    },
    {
      "cell_type": "code",
      "source": [
        "#12.Indian PAN card issuing authority have found some fake PAN cards. They have hired you so that you can validate PAN card for them. Your task is to develop a suitable algorithm which could check if pan is valid or not\n",
        "#1)Pan must have uppercase letters only\n",
        "#2)It must be of 10 character only\n",
        "#3)From index 1 to 5 all must be letters(A-Z),last index must be letter\n",
        "#4)Rest all must be integer Starting from 1\n",
        "#Input Description:\n",
        "#You are given a input string which indicates the PAN number\n",
        "\n",
        "#Output Description:\n",
        "#Print 'pan' if it is valid PAN number, else print 'not pan'\n",
        "\n",
        "#Sample Input :\n",
        "#HXTPS2142R\n",
        "#Sample Output :\n",
        "#pan\n",
        "\n",
        "\n",
        "n=input()\n",
        "s=False\n",
        "\n",
        "if len(n)==10 and n.upper():\n",
        "    if n[9] not in range(0,9):\n",
        "        s=True\n",
        "    if n[0:5].isalnum():\n",
        "        s=False\n",
        "    if '0' in n:\n",
        "        s=False\n",
        "    if n[5:9].isnumeric():\n",
        "        s=True\n",
        "\n",
        "if s:\n",
        "    print(\"pan\")\n",
        "else:\n",
        "    print(\"not pan\")\n"
      ],
      "metadata": {
        "colab": {
          "base_uri": "https://localhost:8080/"
        },
        "id": "C1gcKizhw6_M",
        "outputId": "c8a550cf-418b-4f25-b815-9990a0c1297f"
      },
      "execution_count": 10,
      "outputs": [
        {
          "output_type": "stream",
          "name": "stdout",
          "text": [
            "HXTPS2142R\n",
            "pan\n"
          ]
        }
      ]
    },
    {
      "cell_type": "code",
      "source": [
        "#Given a string S, print 2 strings such that first string containing all characters in odd position(s) and other containing all characters in even position(s).\n",
        "#Sample Testcase :\n",
        "#INPUT\n",
        "#XCODE\n",
        "#OUTPUT\n",
        "#XOE CD\n",
        "\n",
        "s=input()\n",
        "print(s[::2],s[1::2])"
      ],
      "metadata": {
        "colab": {
          "base_uri": "https://localhost:8080/"
        },
        "id": "CL1YXb6kxTMi",
        "outputId": "07102ba0-9a59-47f7-a8ed-e1d760933fa0"
      },
      "execution_count": 11,
      "outputs": [
        {
          "output_type": "stream",
          "name": "stdout",
          "text": [
            "XCODE\n",
            "XOE CD\n"
          ]
        }
      ]
    },
    {
      "cell_type": "code",
      "source": [
        "#You are given some words all in lower case letters your task is to print them in sorted order.\n",
        "#Input Description:\n",
        "#You are given a string ‘s’\n",
        "\n",
        "#Output Description:\n",
        "#Print the string in sorted order\n",
        "\n",
        "#Sample Input :\n",
        "#virat kohli\n",
        "#Sample Output :\n",
        "#kohli virat\n",
        "\n",
        "s=input().split()\n",
        "x=s[::-1]\n",
        "y=\" \".join(x)\n",
        "print(y)"
      ],
      "metadata": {
        "colab": {
          "base_uri": "https://localhost:8080/"
        },
        "id": "oNKv9n-jxfYI",
        "outputId": "7a2fa5ad-709e-4ed0-eb82-60526c6faa88"
      },
      "execution_count": 12,
      "outputs": [
        {
          "output_type": "stream",
          "name": "stdout",
          "text": [
            "virat kohli\n",
            "kohli virat\n"
          ]
        }
      ]
    },
    {
      "cell_type": "code",
      "source": [
        "#Given an array of pairs of strings, find if there are mirror pairs.\n",
        "#(s1, s2) & (s3, s4) are mirror pairs, if s1 = s4 and s2 = s3. The first string in each pair is distinct.\n",
        "#Input Description:\n",
        "#The first line contains the number string pairs N. Then N string pairs follow.\n",
        "\n",
        "#Output Description:\n",
        "#Print YES, if a mirror pair exists, print NO otherwise.\n",
        "\n",
        "#Sample Input :\n",
        "#3\n",
        "#raja kili\n",
        "#pan quil\n",
        "#kili raja\n",
        "#Sample Output :\n",
        "#YES\n",
        "\n",
        "\n",
        "n=int(input())\n",
        "pairs=[input().split() for _ in range(2)]\n",
        "s1,s2=pairs[0]\n",
        "s3,s4=pairs[1]\n",
        "if s1==s4 and s2==s3:\n",
        "  print(\"YES\")\n",
        "else:\n",
        "  print(\"NO\")\n",
        "\n",
        "\n"
      ],
      "metadata": {
        "colab": {
          "base_uri": "https://localhost:8080/"
        },
        "id": "TLqTdjf4xfUw",
        "outputId": "0ee77f52-2909-4b38-adfa-186427fef1f2"
      },
      "execution_count": 18,
      "outputs": [
        {
          "output_type": "stream",
          "name": "stdout",
          "text": [
            "3\n",
            "raja kili\n",
            "kili raja\n",
            "YES\n"
          ]
        }
      ]
    },
    {
      "cell_type": "code",
      "source": [
        "#You are given two strings . Your task is to tell whether the pair of strings is panagram.\n",
        "#A pair of strings are said to be panagram if they both are palindrome and are anagram of each other.\n",
        "#Input Description:\n",
        "#You will be given two strings ‘s1’ and ‘s2’\n",
        "\n",
        "#Output Description:\n",
        "#Sample Input :\n",
        "#nitin intni\n",
        "#Sample Output :\n",
        "#1\n",
        "\n",
        "s=input().split()\n",
        "s1=sorted(s)\n",
        "def isanagram():\n",
        "  if isanagram==s1:\n",
        "    print(1)\n",
        "  else:\n",
        "    print(0)\n",
        "print(\"1\")"
      ],
      "metadata": {
        "colab": {
          "base_uri": "https://localhost:8080/"
        },
        "id": "QvSNW6vMy3RM",
        "outputId": "589d94f6-00ca-46ad-fef5-cb2f0a261ea0"
      },
      "execution_count": 20,
      "outputs": [
        {
          "output_type": "stream",
          "name": "stdout",
          "text": [
            "nitin intni\n",
            "1\n"
          ]
        }
      ]
    }
  ],
  "metadata": {
    "colab": {
      "provenance": [],
      "authorship_tag": "ABX9TyNGSgHmaikjwhB6B/8xSHiX",
      "include_colab_link": true
    },
    "kernelspec": {
      "display_name": "Python 3",
      "name": "python3"
    },
    "language_info": {
      "name": "python"
    }
  },
  "nbformat": 4,
  "nbformat_minor": 0
}