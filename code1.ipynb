{
  "nbformat": 4,
  "nbformat_minor": 0,
  "metadata": {
    "colab": {
      "provenance": [],
      "authorship_tag": "ABX9TyP3ud3Y03GD6b5hCGebx1tN",
      "include_colab_link": true
    },
    "kernelspec": {
      "name": "python3",
      "display_name": "Python 3"
    },
    "language_info": {
      "name": "python"
    }
  },
  "cells": [
    {
      "cell_type": "markdown",
      "metadata": {
        "id": "view-in-github",
        "colab_type": "text"
      },
      "source": [
        "<a href=\"https://colab.research.google.com/github/vijipandian/project/blob/main/code1.ipynb\" target=\"_parent\"><img src=\"https://colab.research.google.com/assets/colab-badge.svg\" alt=\"Open In Colab\"/></a>"
      ]
    },
    {
      "cell_type": "code",
      "execution_count": null,
      "metadata": {
        "colab": {
          "base_uri": "https://localhost:8080/"
        },
        "id": "VwCcS1xXJlRA",
        "outputId": "6852031b-eeb3-4914-acff-86a10c875354"
      },
      "outputs": [
        {
          "output_type": "stream",
          "name": "stdout",
          "text": [
            "guvi\n",
            "g,u,v,i\n"
          ]
        }
      ],
      "source": [
        "#1.Write a code to get the input in the given format and print the output in the given format.\n",
        "A = input()\n",
        "print(','.join(A))"
      ]
    },
    {
      "cell_type": "code",
      "source": [
        "#2.Input:\n",
        "#A single line contains three float values separated by space.\n",
        "#2.3 4.5 7.8\n",
        "#Output:\n",
        "#Print the float value separated by line.\n",
        "2.3\n",
        "4.5\n",
        "7.8\n",
        "A = input()\n",
        "for a in A.split(' '):\n",
        "    print(a)"
      ],
      "metadata": {
        "colab": {
          "base_uri": "https://localhost:8080/"
        },
        "id": "jefDLQ3BJ0xD",
        "outputId": "50880f6c-03f6-4858-d9e6-cd9f6c088b68"
      },
      "execution_count": null,
      "outputs": [
        {
          "output_type": "stream",
          "name": "stdout",
          "text": [
            "2.3 4.5 7.8\n",
            "2.3\n",
            "4.5\n",
            "7.8\n"
          ]
        }
      ]
    },
    {
      "cell_type": "code",
      "source": [
        "#3,The area of an equilateral triangle is ¼(√3a2) where \"a\" represents a side of the triangle. You are provided with the side \"a\". Find the area of the equilateral triangle.\n",
        "a=float(input())\n",
        "area=0.25*((3**0.5)*(a**2))\n",
        "print(round(area,2))"
      ],
      "metadata": {
        "colab": {
          "base_uri": "https://localhost:8080/"
        },
        "id": "PQQUsP_gJ0ph",
        "outputId": "dbce7935-80c0-4389-c506-73e5dd8f8948"
      },
      "execution_count": null,
      "outputs": [
        {
          "output_type": "stream",
          "name": "stdout",
          "text": [
            "20\n",
            "173.21\n"
          ]
        }
      ]
    },
    {
      "cell_type": "code",
      "source": [
        "#4.You are provided with the radius of a circle \"A\". Find the length of its circumference.\n",
        "\n",
        "#Note: In case the output is coming in decimal, roundoff to 2nd decimal place. In case the input is a negative number, print \"Error\"\n",
        "a=float(input())\n",
        "c=2*(22*a)\n",
        "d=c/7\n",
        "print(round(d,2))"
      ],
      "metadata": {
        "colab": {
          "base_uri": "https://localhost:8080/"
        },
        "id": "XdOpA20vJ0id",
        "outputId": "e6e83004-1ae9-4dbc-9848-ec9500cb1964"
      },
      "execution_count": null,
      "outputs": [
        {
          "output_type": "stream",
          "name": "stdout",
          "text": [
            "2\n",
            "12.57\n"
          ]
        }
      ]
    },
    {
      "cell_type": "code",
      "source": [
        "#5.You will be provided with a number. Print the number of days in the month corresponding to that number.\n",
        "\n",
        "#Note: In case the input is February, print 28 days. If the Input is not in valid range print \"Error\".\n",
        "a = int(input())\n",
        "b = [1,3,5,7,8,10,12]\n",
        "c = [4,6,9,11]\n",
        "d = 2\n",
        "if a in b:\n",
        "    print(31)\n",
        "elif a in c:\n",
        "    print(30)\n",
        "elif a == 2:\n",
        "    print(28)\n",
        "else:\n",
        "    print('Error')"
      ],
      "metadata": {
        "colab": {
          "base_uri": "https://localhost:8080/"
        },
        "id": "ylqrsKjdJ0XS",
        "outputId": "7c4625b5-8db0-4a7b-b70c-ea7fc5f65f31"
      },
      "execution_count": null,
      "outputs": [
        {
          "output_type": "stream",
          "name": "stdout",
          "text": [
            "8\n",
            "31\n"
          ]
        }
      ]
    }
  ]
}