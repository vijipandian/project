{
  "nbformat": 4,
  "nbformat_minor": 0,
  "metadata": {
    "colab": {
      "provenance": [],
      "authorship_tag": "ABX9TyNpESXK4Nrjs1Ldh3uAvFX8",
      "include_colab_link": true
    },
    "kernelspec": {
      "name": "python3",
      "display_name": "Python 3"
    },
    "language_info": {
      "name": "python"
    }
  },
  "cells": [
    {
      "cell_type": "markdown",
      "metadata": {
        "id": "view-in-github",
        "colab_type": "text"
      },
      "source": [
        "<a href=\"https://colab.research.google.com/github/vijipandian/project/blob/main/python_code1.ipynb\" target=\"_parent\"><img src=\"https://colab.research.google.com/assets/colab-badge.svg\" alt=\"Open In Colab\"/></a>"
      ]
    },
    {
      "cell_type": "code",
      "source": [
        "#1.You are given with a number A i.e. the temperature in Celcius. Write a program to convert this into Fahrenheit.\n",
        "\n",
        "#Note: In case of decimal values, round-off to two decimal places.\n",
        "#Sample Input :\n",
        "12\n",
        "#Sample Output :\n",
        "53.60\n",
        "\n",
        "\n",
        "\n",
        "cel = int(input())\n",
        "far = (cel*1.8)+32\n",
        "print(\"%0.2f\" %(far))"
      ],
      "metadata": {
        "id": "aUev6xXsDCEe",
        "colab": {
          "base_uri": "https://localhost:8080/"
        },
        "outputId": "13122ef1-9584-46a4-ce7b-3b80b2adda2a"
      },
      "execution_count": null,
      "outputs": [
        {
          "output_type": "stream",
          "name": "stdout",
          "text": [
            "12\n",
            "53.60\n"
          ]
        }
      ]
    },
    {
      "cell_type": "code",
      "source": [
        "#2.You are given with Principle amount($), Interest Rate(%) and Time (years) in that order. Find Simple Interest.\n",
        "\n",
        "#Print the output up to two decimal places (Round-off if necessary).\n",
        "\n",
        "#(S.I. = P*T*R/100)\n",
        "\n",
        "#Sample Input :\n",
        "#1000 2 5\n",
        "#Sample Output :\n",
        "#100.00\n",
        "\n",
        "P,T,R = map(float,input().split())\n",
        "X = P*T*R\n",
        "Y = X/100\n",
        "print(round(Y,2))\n",
        "\n",
        "\n",
        "\n"
      ],
      "metadata": {
        "colab": {
          "base_uri": "https://localhost:8080/"
        },
        "id": "913J5DNlN9nE",
        "outputId": "a4141e89-f008-4bef-9ef7-921fec1d8eb4"
      },
      "execution_count": null,
      "outputs": [
        {
          "output_type": "stream",
          "name": "stdout",
          "text": [
            "1000 2 5\n",
            "100.0\n"
          ]
        }
      ]
    },
    {
      "cell_type": "code",
      "source": [
        "#3.Let \"A\"  be a string. Remove all the whitespaces and find it's length.\n",
        "#Sample Input :\n",
        "#Lorem Ipsum\n",
        "#Sample Output :\n",
        "#10\n",
        "\n",
        "\n",
        "a=input()\n",
        "list1 = a.split()\n",
        "new = ''.join(list1)\n",
        "print(len(new))"
      ],
      "metadata": {
        "id": "7MuBy6b3N9XX",
        "colab": {
          "base_uri": "https://localhost:8080/"
        },
        "outputId": "af7b54bf-c883-4c9f-9fe8-bd5ef620844d"
      },
      "execution_count": null,
      "outputs": [
        {
          "output_type": "stream",
          "name": "stdout",
          "text": [
            "Lorem Ipsum\n",
            "10\n"
          ]
        }
      ]
    },
    {
      "cell_type": "code",
      "source": [
        "#4.You are given an array of ids of prisoners. The jail authority found that there are some prisoners of same id. Your task is to help the authority in finding the common ids.\n",
        "\n",
        "#Input Description:\n",
        "#First line contains a number ‘n’ representing no of prisoners. Next line contains n space separated numbers.\n",
        "\n",
        "#Output Description:\n",
        "#Print the ids which are not unique. Print -1 if all ids are unique\n",
        "\n",
        "#Sample Input :\n",
        "#7\n",
        "#1 1 11 121 131 141 98\n",
        "#Sample Output :\n",
        "#1\n",
        "\n",
        "a=int(input())\n",
        "arr=list(map(int,input().split()))\n",
        "c_id=[]\n",
        "for i in arr:\n",
        "    if arr.count(i)==2:\n",
        "        if i not in c_id:\n",
        "            c_id.append(i)\n",
        "if len(c_id)==1:\n",
        "    print(*c_id)"
      ],
      "metadata": {
        "colab": {
          "base_uri": "https://localhost:8080/"
        },
        "id": "DWjfK0e5CRyn",
        "outputId": "3f417806-fc2b-4f14-bd7b-a06bdd88c980"
      },
      "execution_count": null,
      "outputs": [
        {
          "output_type": "stream",
          "name": "stdout",
          "text": [
            "7\n",
            "1 1 11 121 131 141 98\n",
            "1\n"
          ]
        }
      ]
    },
    {
      "cell_type": "code",
      "source": [
        "#5.Assume you are a student studying in school.You are given a task to find first negative integer for each and every window of size k.\n",
        "\n",
        "#Input Description:\n",
        "#First line contains an integer n denoting the size of the array. The next line contains n space separated integers forming the array. The last line contains the window size k.\n",
        "\n",
        "#Output Description:\n",
        "#Print the first negative integer in that window.If all the numbers are positive print 0\n",
        "\n",
        "#Sample Input :\n",
        "#7\n",
        "#1 -2 -3 -4 5 6 -7\n",
        "#3\n",
        "#Sample Output :\n",
        "#-2 -2 -3 -4 -7\n",
        "\n",
        "\n",
        "\n",
        "n=int(input())\n",
        "arr=list(map(int,input().split(' ')))\n",
        "k=int(input())\n",
        "for i in range(0,(n-k+1)):\n",
        "  x=False\n",
        "  for j in range(0,k):\n",
        "    if(arr[i+j]<0):\n",
        "      print(arr[i+j], end=\" \")\n",
        "      y=True\n",
        "      break"
      ],
      "metadata": {
        "colab": {
          "base_uri": "https://localhost:8080/"
        },
        "id": "89Bg06Jwh5_C",
        "outputId": "20b5abad-d5f8-4128-8101-6fc9590bf73a"
      },
      "execution_count": null,
      "outputs": [
        {
          "output_type": "stream",
          "name": "stdout",
          "text": [
            "7\n",
            "1 -2 -3 -4 5 6 -7\n",
            "3\n",
            "-2 -2 -3 -4 -7 "
          ]
        }
      ]
    }
  ]
}