{
  "nbformat": 4,
  "nbformat_minor": 0,
  "metadata": {
    "colab": {
      "provenance": [],
      "authorship_tag": "ABX9TyM1WsG5BfUfCrU8BaNM48fW",
      "include_colab_link": true
    },
    "kernelspec": {
      "name": "python3",
      "display_name": "Python 3"
    },
    "language_info": {
      "name": "python"
    }
  },
  "cells": [
    {
      "cell_type": "markdown",
      "metadata": {
        "id": "view-in-github",
        "colab_type": "text"
      },
      "source": [
        "<a href=\"https://colab.research.google.com/github/vijipandian/project/blob/main/mathematics_81_to_120.ipynb\" target=\"_parent\"><img src=\"https://colab.research.google.com/assets/colab-badge.svg\" alt=\"Open In Colab\"/></a>"
      ]
    },
    {
      "cell_type": "code",
      "source": [
        "#Given a number N, find the factorial of N.\n",
        "#Input Size : 1 <= N <= 25\n",
        "#Sample Testcase :\n",
        "#INPUT\n",
        "#5\n",
        "#OUTPUT\n",
        "#120\n",
        "\n",
        "n=int(input())\n",
        "fac=1\n",
        "for i in range(2,n+1):\n",
        "  fac*=i\n",
        "print(fac)"
      ],
      "metadata": {
        "colab": {
          "base_uri": "https://localhost:8080/"
        },
        "id": "5oULQ39XhXvB",
        "outputId": "95da9a57-5e96-40e1-aa05-7215273804d8"
      },
      "execution_count": 1,
      "outputs": [
        {
          "output_type": "stream",
          "name": "stdout",
          "text": [
            "5\n",
            "120\n"
          ]
        }
      ]
    },
    {
      "cell_type": "code",
      "source": [
        "#Given 2 numbers a and B.Print the value of a!/b!.\n",
        "#Input Size : A,B <= 10000 and A-B <= 5\n",
        "#Sample Testcase :\n",
        "#INPUT\n",
        "#4 2\n",
        "#OUTPUT\n",
        "#12\n",
        "a,b=list(map(int,input().split()))\n",
        "fac1=1\n",
        "fac2=1\n",
        "for i in range(2,a+1):\n",
        "   fac1*=i\n",
        "for j in range(2,b+1):\n",
        "    fac2*=j\n",
        "x=fac1//fac2\n",
        "print(x)\n"
      ],
      "metadata": {
        "colab": {
          "base_uri": "https://localhost:8080/"
        },
        "id": "jeKPYoeXA8PB",
        "outputId": "0bce797e-a729-4c64-d728-e6bf08cbb2fd"
      },
      "execution_count": 2,
      "outputs": [
        {
          "output_type": "stream",
          "name": "stdout",
          "text": [
            "4 2\n",
            "12\n"
          ]
        }
      ]
    },
    {
      "cell_type": "code",
      "source": [
        "#Given a hexadecimal number convert it into decimal.\n",
        "#Sample Testcase :\n",
        "#INPUT\n",
        "#293\n",
        "#OUTPUT\n",
        "#659\n",
        "hex=input()\n",
        "dec=int(hex,16)\n",
        "print(dec)"
      ],
      "metadata": {
        "colab": {
          "base_uri": "https://localhost:8080/"
        },
        "id": "mA4BkB2yBHWE",
        "outputId": "f091401e-cf25-424f-a49a-c2ace3f6f4c2"
      },
      "execution_count": 3,
      "outputs": [
        {
          "output_type": "stream",
          "name": "stdout",
          "text": [
            "293\n",
            "659\n"
          ]
        }
      ]
    },
    {
      "cell_type": "code",
      "source": [
        "#Given a number N,check whether it has repeating digits in it.print 'yes' if it has repeating digits otherwise print 'no'.\n",
        "#Sample Testcase :\n",
        "#INPUT\n",
        "#11234\n",
        "#OUTPUT\n",
        "#yes\n",
        "\n",
        "n=int(input())\n",
        "rep=[]\n",
        "m=str(n)\n",
        "for i in m:\n",
        "  if m.count(i)>1 and i not in rep:\n",
        "      print(\"yes\")\n",
        "      break\n",
        "else:\n",
        "    print(\"no\")"
      ],
      "metadata": {
        "colab": {
          "base_uri": "https://localhost:8080/"
        },
        "id": "odz86Ag8BWJ7",
        "outputId": "92e0a030-d426-42c9-e610-d941569a99e1"
      },
      "execution_count": 4,
      "outputs": [
        {
          "output_type": "stream",
          "name": "stdout",
          "text": [
            "11234\n",
            "yes\n"
          ]
        }
      ]
    },
    {
      "cell_type": "code",
      "source": [
        "#Given a number N, check whether it is a power of 2.\n",
        "#Sample Testcase :\n",
        "#INPUT\n",
        "#2048\n",
        "#OUTPUT\n",
        "#yes\n",
        "n=int(input())\n",
        "if n>0 and (n&(n-1))==0:\n",
        "  print(\"yes\")\n",
        "else:\n",
        "  print(\"no\")"
      ],
      "metadata": {
        "colab": {
          "base_uri": "https://localhost:8080/"
        },
        "id": "F9kCMYRQBWAC",
        "outputId": "4f677073-b21a-4704-e2b2-e2124f15e01e"
      },
      "execution_count": 6,
      "outputs": [
        {
          "output_type": "stream",
          "name": "stdout",
          "text": [
            "2048\n",
            "yes\n"
          ]
        }
      ]
    },
    {
      "cell_type": "code",
      "source": [
        "#Print the position of first 1 from right to left, in binary representation of an Integer.\n",
        "#Sample Testcase :\n",
        "#INPUT\n",
        "#18\n",
        "#OUTPUT\n",
        "#2\n",
        "import math\n",
        "n=int(input())\n",
        "x=math.log2(n&-n)+1\n",
        "print(round(x))"
      ],
      "metadata": {
        "colab": {
          "base_uri": "https://localhost:8080/"
        },
        "id": "Lcw1si1LBnjr",
        "outputId": "ce9911ad-c741-4f97-d79c-da32a8d8b7a2"
      },
      "execution_count": 7,
      "outputs": [
        {
          "output_type": "stream",
          "name": "stdout",
          "text": [
            "18\n",
            "2\n"
          ]
        }
      ]
    },
    {
      "cell_type": "code",
      "source": [
        "#Given 3 numbers A,B,C print 'yes' if they can form the sides of a right angled triangle,otherwise 'no'.\n",
        "#Input Size : A,B,C <= 100000\n",
        "#Sample Testcase :\n",
        "#INPUT\n",
        "#3 4 5\n",
        "#OUTPUT\n",
        "#yes\n",
        "n=list(map(int,input().split()))\n",
        "x,y,z=sorted(n)\n",
        "if x**2+y**2==z**2:\n",
        "  print(\"yes\")\n",
        "else:\n",
        "  print(\"no\")"
      ],
      "metadata": {
        "colab": {
          "base_uri": "https://localhost:8080/"
        },
        "id": "RQw0Dz_OBngQ",
        "outputId": "897750fd-08c1-4654-b35c-493b1a3121c2"
      },
      "execution_count": 9,
      "outputs": [
        {
          "output_type": "stream",
          "name": "stdout",
          "text": [
            "3 4 5\n",
            "yes\n"
          ]
        }
      ]
    },
    {
      "cell_type": "code",
      "source": [
        "#Given 3 numbers A,B,C print 'yes' if they can form the sides of a scalene triangle else print 'no'.\n",
        "#Input Size : A,B,C <= 100000\n",
        "#Sample Testcase :\n",
        "#INPUT\n",
        "#3 4 5\n",
        "#OUTPUT\n",
        "#yes\n",
        "a,b,c=list(map(int,input().split()))\n",
        "if a>0 and b>0 and c>0:\n",
        "    if a!=b and b!=c and a!=c:\n",
        "        print(\"yes\")\n",
        "    else:\n",
        "        print(\"no\")"
      ],
      "metadata": {
        "colab": {
          "base_uri": "https://localhost:8080/"
        },
        "id": "NwOP57U-CLco",
        "outputId": "d39e5a8f-1288-4fda-a1d3-be85bd0a69d1"
      },
      "execution_count": 10,
      "outputs": [
        {
          "output_type": "stream",
          "name": "stdout",
          "text": [
            "3 4 5\n",
            "yes\n"
          ]
        }
      ]
    },
    {
      "cell_type": "code",
      "source": [
        "#Given two numbers N,K followed by an array of N elements, print the array after doing right shift K times (in cyclic manner).\n",
        "#Input Size : 1 <= N, K <= 100000\n",
        "#Sample Testcase :\n",
        "#INPUT\n",
        "#3 2\n",
        "#7 2 3\n",
        "#OUTPUT\n",
        "#2 3 7\n",
        "n,k=map(int,input().split())\n",
        "arr=list(map(int,input().split()))\n",
        "k=k%n\n",
        "re=arr[-k:]+arr[:-k]\n",
        "print(*re)"
      ],
      "metadata": {
        "colab": {
          "base_uri": "https://localhost:8080/"
        },
        "id": "u6PfobK1CV1L",
        "outputId": "ff5cd427-8936-49f6-8274-de154dc1b7de"
      },
      "execution_count": 11,
      "outputs": [
        {
          "output_type": "stream",
          "name": "stdout",
          "text": [
            "3 2\n",
            "7 2 3\n",
            "2 3 7\n"
          ]
        }
      ]
    },
    {
      "cell_type": "code",
      "source": [
        "#Assume you are john. John has one younger sister ‘jenny’. He wants to gift her some toys. He has a price list of toys and he has some amount on hand. Your task is to tell him how many toys john will be able to buy for her sister\n",
        "#Input Description:\n",
        "#First line contains two integer ‘n’ and ‘k’ ,n denotes the number of toys and k denotes total money he has.Next line contains n space separated integers denoting price of each toy\n",
        "#Output Description:\n",
        "#Print the max number of toys he can buy.\n",
        "#Sample Input :\n",
        "#7 50\n",
        "#1 12 5 111 200 1000 10\n",
        "#Sample Output :\n",
        "#4\n",
        "n,k=map(int,input().split())\n",
        "arr=list(map(int,input().split()))\n",
        "arr.sort()\n",
        "sum=0\n",
        "total_cost=0\n",
        "for price in arr:\n",
        "   if total_cost+price<=k:\n",
        "    sum+=1\n",
        "    total_cost+=price\n",
        "print(sum)"
      ],
      "metadata": {
        "colab": {
          "base_uri": "https://localhost:8080/"
        },
        "id": "_TMPRqoACkaq",
        "outputId": "0aa6c800-7f02-4714-a49a-a17e6039105b"
      },
      "execution_count": 17,
      "outputs": [
        {
          "output_type": "stream",
          "name": "stdout",
          "text": [
            "7 50\n",
            "1 12 5 111 200 1000 10\n",
            "4\n"
          ]
        }
      ]
    },
    {
      "cell_type": "code",
      "source": [
        "#You are given a number ‘n’.Your task is to develop an algorithm to tell whether the number is ‘ajs’ or not.An ‘ajs’ number is a number whose sum of first two digits is present in given number ‘n’\n",
        "#Input Description:\n",
        "#A number ’n’ is given to you\n",
        "#Output Description:\n",
        "#Print 1 if number is ajs or 0 if it is not\n",
        "#Sample Input :\n",
        "#9817\n",
        "#Sample Output :\n",
        "#1\n",
        "n=input()\n",
        "x=str(n)\n",
        "if len(x)<2:\n",
        "  print(0)\n",
        "first_digit=int(x[0])\n",
        "second_digit=int(x[1])\n",
        "sum=first_digit+second_digit\n",
        "if str(sum) in x:\n",
        "  print(1)\n",
        "else:\n",
        "  print(0)"
      ],
      "metadata": {
        "colab": {
          "base_uri": "https://localhost:8080/"
        },
        "id": "PWg2zKmACkXB",
        "outputId": "9cc666fd-4216-4fdd-86d8-cd477bc85482"
      },
      "execution_count": 16,
      "outputs": [
        {
          "output_type": "stream",
          "name": "stdout",
          "text": [
            "9817\n",
            "1\n"
          ]
        }
      ]
    },
    {
      "cell_type": "code",
      "source": [
        "#How many possible ways are to shuffle given number of playing cards?.\n",
        "#Input Size : |N| <= 1000000\n",
        "#Sample Testcase :\n",
        "#INPUT\n",
        "#7\n",
        "#OUTPUT\n",
        "#5040\n",
        "n=int(input())\n",
        "factorial=1\n",
        "for i in range(1,n+1):\n",
        "  factorial=factorial*i\n",
        "print(factorial)\n"
      ],
      "metadata": {
        "colab": {
          "base_uri": "https://localhost:8080/"
        },
        "id": "B_UMKnkqDv9a",
        "outputId": "be95829f-d322-4fa0-bb4e-f271812b27ad"
      },
      "execution_count": 18,
      "outputs": [
        {
          "output_type": "stream",
          "name": "stdout",
          "text": [
            "7\n",
            "5040\n"
          ]
        }
      ]
    },
    {
      "cell_type": "code",
      "source": [
        "#Given a number N, print 'INT' if it is integer range or print 'LONG' if it is greater.\n",
        "#Input Size : 1 <= N <= 100000\n",
        "#Sample Testcase :\n",
        "#INPUT\n",
        "#999\n",
        "#OUTPUT\n",
        "#INT\n",
        "n=int(input())\n",
        "#for i in n:\n",
        "if n<=1000:\n",
        "  print(\"INT\")\n",
        "else:\n",
        "  print(\"LONG\")"
      ],
      "metadata": {
        "colab": {
          "base_uri": "https://localhost:8080/"
        },
        "id": "sTO-RmDjENcP",
        "outputId": "457865ad-4d11-4560-cd91-e8057d3022ba"
      },
      "execution_count": 19,
      "outputs": [
        {
          "output_type": "stream",
          "name": "stdout",
          "text": [
            "999\n",
            "INT\n"
          ]
        }
      ]
    },
    {
      "cell_type": "code",
      "source": [
        "#A number is given as input.Find the maximum number that can be formed using the digits.\n",
        "#Input Size : N <= 10000000\n",
        "#Sample Testcase :\n",
        "#INPUT\n",
        "#4123\n",
        "#OUTPUT\n",
        "#4321\n",
        "n=int(input())\n",
        "dig=list(str(n))\n",
        "dig.sort(reverse=True)\n",
        "m=int(\"\".join(dig))\n",
        "print(m)"
      ],
      "metadata": {
        "colab": {
          "base_uri": "https://localhost:8080/"
        },
        "id": "r9X70pn2EYqF",
        "outputId": "4501fc55-5b89-4811-80b6-17fd472ab11a"
      },
      "execution_count": 20,
      "outputs": [
        {
          "output_type": "stream",
          "name": "stdout",
          "text": [
            "4123\n",
            "4321\n"
          ]
        }
      ]
    },
    {
      "cell_type": "code",
      "source": [
        "#Given a number N, print their prime factors in sorted order.\n",
        "#Input Size : 2 <= N <= 100000\n",
        "#Sample Testcase :\n",
        "#INPUT\n",
        "#18\n",
        "#OUTPUT\n",
        "#2 3\n",
        "n=int(input())\n",
        "re=n\n",
        "fac=[]\n",
        "while n%2==0:\n",
        "  fac.append(2)\n",
        "  n//=2\n",
        "for i in range(3,int(n**0.5)+1,2):\n",
        "  while n%i==0:\n",
        "    fac.append(i)\n",
        "    n//=i\n",
        "if n>2:\n",
        "  fac.append(n)\n",
        "print(*sorted(set(fac)))"
      ],
      "metadata": {
        "colab": {
          "base_uri": "https://localhost:8080/"
        },
        "id": "66rmQfcTEjN4",
        "outputId": "89fa93a4-12a1-45ba-aa90-07c284827a38"
      },
      "execution_count": 21,
      "outputs": [
        {
          "output_type": "stream",
          "name": "stdout",
          "text": [
            "18\n",
            "2 3\n"
          ]
        }
      ]
    },
    {
      "cell_type": "code",
      "source": [
        "#Given two numbers L,R print the smallest number which is divisible by both L and R.\n",
        "#Input Size : 1 <= L,R <= 100000\n",
        "#Sample Testcase :\n",
        "#INPUT\n",
        "#10 130\n",
        "#OUTPUT\n",
        "#130\n",
        "import math\n",
        "def find_lcm(l,r):\n",
        "  return abs(l*r)//math.gcd(l,r)\n",
        "l,r=map(int,input().split())\n",
        "print(find_lcm(l,r))"
      ],
      "metadata": {
        "colab": {
          "base_uri": "https://localhost:8080/"
        },
        "id": "RK1dQojPEtqd",
        "outputId": "f8cd8da0-f077-477f-aba7-e7ca4ec0ac7a"
      },
      "execution_count": 22,
      "outputs": [
        {
          "output_type": "stream",
          "name": "stdout",
          "text": [
            "10 130\n",
            "130\n"
          ]
        }
      ]
    },
    {
      "cell_type": "code",
      "source": [
        "#Given 3 numbers A,B,C find (A^B)%C.\n",
        "#Input Size : A,B,C <= 1000000000\n",
        "#Sample Testcase :\n",
        "#INPUT\n",
        "#3 4 1000000007\n",
        "#OUTPUT\n",
        "#81\n",
        "a,b,c=list(map(int,input().split()))\n",
        "z=(a**b)\n",
        "x=z%c\n",
        "print(x)"
      ],
      "metadata": {
        "colab": {
          "base_uri": "https://localhost:8080/"
        },
        "id": "PBRSHPb0E3ty",
        "outputId": "85a85933-6f10-4b41-e2db-82479739886e"
      },
      "execution_count": 23,
      "outputs": [
        {
          "output_type": "stream",
          "name": "stdout",
          "text": [
            "3 4 1000000007\n",
            "81\n"
          ]
        }
      ]
    },
    {
      "cell_type": "code",
      "source": [
        "#Given a range (i.e) two numbers L and R count the number of perfect squares within the range (inclusive of L and R).If no perfect square exists within the range print '-1'.\n",
        "#Input Size : L <= R <= 100000(complexity O(n))\n",
        "#Sample Testcase :\n",
        "#INPUT\n",
        "#2 10\n",
        "#OUTPUT\n",
        "#2\n",
        "import math\n",
        "l,r=map(int,input().split())\n",
        "start=math.ceil(math.sqrt(l))\n",
        "end=math.floor(math.sqrt(r))\n",
        "count=end-start+1\n",
        "print(count if count>0 else -1)"
      ],
      "metadata": {
        "colab": {
          "base_uri": "https://localhost:8080/"
        },
        "id": "L-_SeCD3Fa_b",
        "outputId": "34c91f21-102b-4254-de48-dc9a761f2d3d"
      },
      "execution_count": 24,
      "outputs": [
        {
          "output_type": "stream",
          "name": "stdout",
          "text": [
            "2 10\n",
            "2\n"
          ]
        }
      ]
    },
    {
      "cell_type": "code",
      "source": [
        "#Given a square matrix of size N x N, find the sum of the product of its diagonals.\n",
        "#Input Size : N <= 1000\n",
        "#Sample Testcase :\n",
        "#INPUT\n",
        "#2\n",
        "#2 4\n",
        "#3 7\n",
        "#OUTPUT\n",
        "#26\n",
        "n=int(input())\n",
        "a=1\n",
        "b=1\n",
        "for i in range(n):\n",
        "  row=list(map(int,input().split()))\n",
        "  a*=row[i]\n",
        "  b*=row[n-i-1]\n",
        "print(a+b)\n"
      ],
      "metadata": {
        "colab": {
          "base_uri": "https://localhost:8080/"
        },
        "id": "Px1OPZtcFp6s",
        "outputId": "e1e39175-4069-4b01-9944-89073d1aef8b"
      },
      "execution_count": 25,
      "outputs": [
        {
          "output_type": "stream",
          "name": "stdout",
          "text": [
            "2\n",
            "2 4\n",
            "3 7\n",
            "26\n"
          ]
        }
      ]
    },
    {
      "cell_type": "code",
      "source": [
        "#Given a number N in decimal, print the length of the corresponding binary digit.\n",
        "#Input Size : 1 <= N <= 100000\n",
        "#Sample Testcase :\n",
        "#INPUT\n",
        "#10\n",
        "#OUTPUT\n",
        "#4\n",
        "n=int(input())\n",
        "binary=len(bin(n))-2\n",
        "print(binary)"
      ],
      "metadata": {
        "colab": {
          "base_uri": "https://localhost:8080/"
        },
        "id": "tZjkYUO7GADQ",
        "outputId": "590edeb0-81bd-4646-f760-cd949f829955"
      },
      "execution_count": 26,
      "outputs": [
        {
          "output_type": "stream",
          "name": "stdout",
          "text": [
            "10\n",
            "4\n"
          ]
        }
      ]
    },
    {
      "cell_type": "code",
      "source": [
        "#Given 3 angles A,B,C find if they can be interior angles of a triangle.If they form an interior triangle for the given angle,print 'yes' otherwise print 'no'.\n",
        "#Input Size : 0 <= A,B,C <= 180\n",
        "#Sample Testcase :\n",
        "#INPUT\n",
        "#2 2 176\n",
        "#OUTPUT\n",
        "#yes\n",
        "a,b,c=list(map(int,input().split()))\n",
        "if a+b+c==180:\n",
        "  print(\"yes\")\n",
        "else:\n",
        "  print(\"no\")"
      ],
      "metadata": {
        "colab": {
          "base_uri": "https://localhost:8080/"
        },
        "id": "gOEs6gwmGOpR",
        "outputId": "c8ff2625-7957-46f6-a7d8-b4c6a1542a87"
      },
      "execution_count": 27,
      "outputs": [
        {
          "output_type": "stream",
          "name": "stdout",
          "text": [
            "2 2 176\n",
            "yes\n"
          ]
        }
      ]
    },
    {
      "cell_type": "code",
      "source": [
        "#Given a range[L,R], print the sum of all the odd numbers within the range(inclusive of L and R).\n",
        "#Sample Testcase:\n",
        "#INPUT\n",
        "#5 10\n",
        "#OUTPUT\n",
        "#21\n",
        "l,r=list(map(int,input().split()))\n",
        "odd=0\n",
        "for i in range(l,r+1,2):\n",
        "  if i%2!=0:\n",
        "    odd+=i\n",
        "print(odd)"
      ],
      "metadata": {
        "colab": {
          "base_uri": "https://localhost:8080/"
        },
        "id": "B-iJZbMuGfti",
        "outputId": "384b3c64-72ab-4715-dfc9-6658f2cd8617"
      },
      "execution_count": 28,
      "outputs": [
        {
          "output_type": "stream",
          "name": "stdout",
          "text": [
            "5 10\n",
            "21\n"
          ]
        }
      ]
    },
    {
      "cell_type": "code",
      "source": [
        "#Given a number N, check if N is divisible by any number less than N (ie.,it leaves no remainder)except 1.\n",
        "#Input Size : 1 <= N <= 100000\n",
        "#Sample Testcase :\n",
        "#INPUT\n",
        "#10\n",
        "#OUTPUT\n",
        "#yes\n",
        "n=int(input())\n",
        "for i in range(2,n):\n",
        "  if n%i==0:\n",
        "    print(\"yes\")\n",
        "    break\n",
        "else:\n",
        "   print(\"no\")"
      ],
      "metadata": {
        "colab": {
          "base_uri": "https://localhost:8080/"
        },
        "id": "xHLXIfOUGs-R",
        "outputId": "c5018283-2e5a-4658-f707-7614f043d931"
      },
      "execution_count": 29,
      "outputs": [
        {
          "output_type": "stream",
          "name": "stdout",
          "text": [
            "10\n",
            "yes\n"
          ]
        }
      ]
    }
  ]
}