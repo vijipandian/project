{
  "nbformat": 4,
  "nbformat_minor": 0,
  "metadata": {
    "colab": {
      "provenance": [],
      "authorship_tag": "ABX9TyPv/je6EZU0td1BSOHLvE3Y",
      "include_colab_link": true
    },
    "kernelspec": {
      "name": "python3",
      "display_name": "Python 3"
    },
    "language_info": {
      "name": "python"
    }
  },
  "cells": [
    {
      "cell_type": "markdown",
      "metadata": {
        "id": "view-in-github",
        "colab_type": "text"
      },
      "source": [
        "<a href=\"https://colab.research.google.com/github/vijipandian/project/blob/main/STRINGS.ipynb\" target=\"_parent\"><img src=\"https://colab.research.google.com/assets/colab-badge.svg\" alt=\"Open In Colab\"/></a>"
      ]
    },
    {
      "cell_type": "code",
      "execution_count": 1,
      "metadata": {
        "colab": {
          "base_uri": "https://localhost:8080/"
        },
        "id": "GLMlq4q70Hxx",
        "outputId": "0900b951-e3fc-4a8b-d1b2-2b4709f4f2a7"
      },
      "outputs": [
        {
          "output_type": "stream",
          "name": "stdout",
          "text": [
            "I am shrey\n",
            " m shry"
          ]
        }
      ],
      "source": [
        "#1.You are given a string.Your task is to print only the consonants present in the string without affecting the sentence spacings if present. If no consonants are present print -1\n",
        "\n",
        "#Input Description:\n",
        "#You are given a string ‘s’.\n",
        "\n",
        "#Output Description:\n",
        "#Print only consonants.\n",
        "\n",
        "#Sample Input :\n",
        "#I am shrey\n",
        "#Sample Output :\n",
        " #m shry\n",
        "\n",
        "s=str(input())\n",
        "r=0\n",
        "for i in s:\n",
        "    if i not in \"aeiouAEIOU\":\n",
        "        print(i,end='')\n",
        "        r+=1\n",
        "if r==0:\n",
        "    print(-1)\n"
      ]
    },
    {
      "cell_type": "code",
      "source": [
        "#2.You are given two numbers. Your task is to multiply the two numbers and print the answer.\n",
        "\n",
        "#Input Description:\n",
        "#You are given two numbers ‘n’ and ‘m’.\n",
        "\n",
        "#Output Description:\n",
        "#Print the multiplied answer\n",
        "\n",
        "#Sample Input :\n",
        "#99999 99998\n",
        "#Sample Output :\n",
        "#9999700002\n",
        "\n",
        "n,m=map(int,input().split())\n",
        "s=n*m\n",
        "print(s)\n"
      ],
      "metadata": {
        "colab": {
          "base_uri": "https://localhost:8080/"
        },
        "id": "4r1Ya7Id0r3t",
        "outputId": "95fd31b3-004c-4c4e-fb3f-84ac3be23e97"
      },
      "execution_count": 2,
      "outputs": [
        {
          "output_type": "stream",
          "name": "stdout",
          "text": [
            "99999 99998\n",
            "9999700002\n"
          ]
        }
      ]
    },
    {
      "cell_type": "code",
      "source": [
        " #3.Radha newly learnt about palindromic strings.A palindromic string is a string which is same when read from left to right and also from right to left.Help her in implementing the logic.\n",
        "\n",
        "#Input Description:\n",
        "#You are given a String ‘s’\n",
        "\n",
        "#Output Description:\n",
        "#Print 1 if String is palindrome or 0 if not\n",
        "\n",
        "#Sample Input :\n",
        "#NITIN\n",
        "#Sample Output :\n",
        "#1\n",
        "\n",
        "s=str(input())\n",
        "if s==s[::-1]:\n",
        "  print(1)\n",
        "else:\n",
        "  print(0)"
      ],
      "metadata": {
        "colab": {
          "base_uri": "https://localhost:8080/"
        },
        "id": "JMipFofy0r0D",
        "outputId": "60532dd7-4553-4599-911b-ecb740382d48"
      },
      "execution_count": 3,
      "outputs": [
        {
          "output_type": "stream",
          "name": "stdout",
          "text": [
            "NITIN\n",
            "1\n"
          ]
        }
      ]
    },
    {
      "cell_type": "code",
      "source": [
        "#4.Write a program to get a string S, Type of conversion (1 - Convert to Lowercase, 2 - Convert to Uppercase) T, and integer P . Convert the case of the letters in the positions which are multiples of P.(1 based indexing).\n",
        "\n",
        "#Input Description:\n",
        "#Given a string S, Type of conversion T, and integer P\n",
        "\n",
        "#Output Description:\n",
        "#Convert the case of the letters and print the string\n",
        "\n",
        "#Sample Input :\n",
        "#ProFiLe\n",
        "#1\n",
        "#2\n",
        "#Sample Output :\n",
        "#Profile\n",
        "\n",
        "text=input()\n",
        "list1=list(text)\n",
        "\n",
        "t = int(input())\n",
        "p = int(input())\n",
        "\n",
        "for i in range(0,len(list1)):\n",
        "    if((i+1)%p==0):\n",
        "        list1[i] = list1[i].lower() if t==1 else list1[i].upper()\n",
        "\n",
        "ans=\"\".join(list1)\n",
        "print(ans)"
      ],
      "metadata": {
        "colab": {
          "base_uri": "https://localhost:8080/"
        },
        "id": "BtxcwPpy0rxk",
        "outputId": "ecc1817b-0a2b-4d04-d0a6-b9894bb9abc9"
      },
      "execution_count": 4,
      "outputs": [
        {
          "output_type": "stream",
          "name": "stdout",
          "text": [
            "proFiLe\n",
            "1\n",
            "2\n",
            "profile\n"
          ]
        }
      ]
    },
    {
      "cell_type": "code",
      "source": [
        "#5.Ria is a 5 year old girl. Her mother wants to teach her how to sort words in the same order that they appear in a dictionary. She decides to write a program to sort a given set of strings based on their alphabetical order. Help Ria’s mother to complete the program.\n",
        "\n",
        "\n",
        "\n",
        "#Input Description:\n",
        "#A set of N strings\n",
        "\n",
        "#Output Description:\n",
        "#Alphabetically sorted set of strings\n",
        "\n",
        "#Sample Input :\n",
        "#3\n",
        "#InfinityWar EndGame Avengers\n",
        "#Sample Output :\n",
        "#Avengers EndGame InfinityWar\n",
        "\n",
        "\n",
        "s=input()\n",
        "N=input().split()\n",
        "N.sort()\n",
        "print(' '.join(N))"
      ],
      "metadata": {
        "colab": {
          "base_uri": "https://localhost:8080/"
        },
        "id": "IWPSlI0A0ruE",
        "outputId": "2619da1a-9e02-498d-9149-4fe72f756cb8"
      },
      "execution_count": 5,
      "outputs": [
        {
          "output_type": "stream",
          "name": "stdout",
          "text": [
            "3\n",
            "InfinityWar EndGame Avengers\n",
            "Avengers EndGame InfinityWar\n"
          ]
        }
      ]
    }
  ]
}