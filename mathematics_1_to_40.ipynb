{
  "nbformat": 4,
  "nbformat_minor": 0,
  "metadata": {
    "colab": {
      "provenance": [],
      "authorship_tag": "ABX9TyNrrAuUoGe4PSbvwmp1PZc5",
      "include_colab_link": true
    },
    "kernelspec": {
      "name": "python3",
      "display_name": "Python 3"
    },
    "language_info": {
      "name": "python"
    }
  },
  "cells": [
    {
      "cell_type": "markdown",
      "metadata": {
        "id": "view-in-github",
        "colab_type": "text"
      },
      "source": [
        "<a href=\"https://colab.research.google.com/github/vijipandian/project/blob/main/mathematics_1_to_40.ipynb\" target=\"_parent\"><img src=\"https://colab.research.google.com/assets/colab-badge.svg\" alt=\"Open In Colab\"/></a>"
      ]
    },
    {
      "cell_type": "code",
      "execution_count": 1,
      "metadata": {
        "colab": {
          "base_uri": "https://localhost:8080/"
        },
        "id": "n7eZxnYphvW8",
        "outputId": "eafbd2d4-7de3-4309-bd89-10a6bc164d8a"
      },
      "outputs": [
        {
          "output_type": "stream",
          "name": "stdout",
          "text": [
            "3 5\n",
            "1\n"
          ]
        }
      ],
      "source": [
        "#Assume your brother studies in class 2. He has to  complete his homework on co-primes. As an elder sibling help him in finding whether the given two numbers is co-prime or not.\n",
        "#Input Description:\n",
        "#You will be given two numbers ‘n’ and ‘m’\n",
        "#Output Description:\n",
        "#Your task is to tell whether numbers is co prime or not. If it is a co-prime print 1 else 0\n",
        "#Sample Input :\n",
        "#3 5\n",
        "#Sample Output :\n",
        "#1\n",
        "\n",
        "n,m=map(int,input().split())\n",
        "for i in range(n and m):\n",
        "    if i%2==0:\n",
        "        print(1)\n",
        "        break;\n",
        "    else:\n",
        "       print(0)"
      ]
    },
    {
      "cell_type": "code",
      "source": [
        "#Given a number N, print yes if the number is a multiple of 7 else print no.\n",
        "#Sample Testcase :\n",
        "#INPUT\n",
        "#49\n",
        "#OUTPUT\n",
        "#yes\n",
        "\n",
        "n=int(input())\n",
        "for i in range(1):\n",
        "    if n%7==0:\n",
        "       print(\"yes\")\n",
        "    else:\n",
        "       print(\"no\")"
      ],
      "metadata": {
        "colab": {
          "base_uri": "https://localhost:8080/"
        },
        "id": "o_ck2L6WiAj7",
        "outputId": "df7cea77-9628-45aa-c430-0a9024733c82"
      },
      "execution_count": 2,
      "outputs": [
        {
          "output_type": "stream",
          "name": "stdout",
          "text": [
            "49\n",
            "yes\n"
          ]
        }
      ]
    },
    {
      "cell_type": "code",
      "source": [
        "#You are given a number ‘n’. You have to tell whether a number is great or not. A great number is a number whose sum of digits let (m) and product of digits let(j) when summed together gives the number back\n",
        "#m+j=n\n",
        "#Input Description:\n",
        "#You are given a number n;\n",
        "#Output Description:\n",
        "#Print Great if a number is great else print the no\n",
        "#Sample Input :\n",
        "#59\n",
        "#Sample Output :\n",
        "#Great\n",
        "\n",
        "n=int(input())\n",
        "t=n\n",
        "d=1\n",
        "r=0\n",
        "p=1\n",
        "while(n>0):\n",
        "     d=n%10\n",
        "     r+=d\n",
        "     n=n//10\n",
        "     p=d*p\n",
        "X=r+p\n",
        "if X ==t:\n",
        "    print('Great')\n",
        "else:\n",
        "    print('no')"
      ],
      "metadata": {
        "colab": {
          "base_uri": "https://localhost:8080/"
        },
        "id": "tgccF1R2iJC5",
        "outputId": "5c3ec20b-fe6e-442e-b2ac-7fe5009de393"
      },
      "execution_count": 3,
      "outputs": [
        {
          "output_type": "stream",
          "name": "stdout",
          "text": [
            "59\n",
            "Great\n"
          ]
        }
      ]
    },
    {
      "cell_type": "code",
      "source": [
        "#Find the minimum among 10 numbers.\n",
        "#Sample Testcase :\n",
        "#INPUT\n",
        "#5 4 3 2 1 7 6 10 8 9\n",
        "#OUTPUT\n",
        "#1\n",
        "a=map(int,input().split())\n",
        "print(min(a))"
      ],
      "metadata": {
        "colab": {
          "base_uri": "https://localhost:8080/"
        },
        "id": "eUrEnyYtiI_Z",
        "outputId": "e95fd0a2-f2bb-4bd0-b7ba-b6a4e22d0743"
      },
      "execution_count": 4,
      "outputs": [
        {
          "output_type": "stream",
          "name": "stdout",
          "text": [
            "5 4 3 2 1 7 6 10 8 9\n",
            "1\n"
          ]
        }
      ]
    },
    {
      "cell_type": "code",
      "source": [
        "#You are given a set of numbers, out of which you have to tell which of them are finest. A finest number ‘n’ is a number which is formed by a number ‘t’ such that\n",
        "#n=t^3+(t+1)^3\n",
        "#t is a natural number\n",
        "#Input Description:\n",
        "#You are given a number ‘z’ representing total numbers in an array, Next line contains z space separated numbers.\n",
        "#Output Description:\n",
        "#Print the numbers which are finest in ascending order if there are no such numbers print -1.\n",
        "#Sample Input :\n",
        "#2\n",
        "#1729 189\n",
        "#Sample Output :\n",
        "#189 1729\n",
        "\n",
        "a=int(input())\n",
        "arr=list(map(int,input().split()))\n",
        "lst=[]\n",
        "form=1\n",
        "for i in arr:\n",
        "    for j in range(1,100-1):\n",
        "        form=j**3+(j+1)**3\n",
        "        if i==form:\n",
        "            lst.append(i)\n",
        "lst.sort()\n",
        "print(*lst)"
      ],
      "metadata": {
        "colab": {
          "base_uri": "https://localhost:8080/"
        },
        "id": "WUWCF7jFi7Y4",
        "outputId": "8e3586aa-7345-4219-cfff-8575d1971b78"
      },
      "execution_count": 6,
      "outputs": [
        {
          "output_type": "stream",
          "name": "stdout",
          "text": [
            "2\n",
            "1729 189\n",
            "189 1729\n"
          ]
        }
      ]
    },
    {
      "cell_type": "code",
      "source": [
        "#You are provided with a number ’n’. Your task is to tell whether that number is saturated. A saturated number is a number which is made by exactly two digits.\n",
        "#Input Description:\n",
        "#You are given with a number n.\n",
        "#Output Description:\n",
        "#Print Saturated if it is saturated else it is Unsaturated\n",
        "#Sample Input :\n",
        "#121\n",
        "#Sample Output :\n",
        "#Saturated\n",
        "\n",
        "a=input()\n",
        "b=list(set(a))\n",
        "if (len(b)==2):\n",
        "  print(\"Saturated\")\n",
        "else:\n",
        "  print(\"Unsaturated\")"
      ],
      "metadata": {
        "colab": {
          "base_uri": "https://localhost:8080/"
        },
        "id": "kNq3ztJxi7Vh",
        "outputId": "b3cebaa2-53c5-413c-da9d-ac994a8b8df4"
      },
      "execution_count": 7,
      "outputs": [
        {
          "output_type": "stream",
          "name": "stdout",
          "text": [
            "121\n",
            "Saturated\n"
          ]
        }
      ]
    },
    {
      "cell_type": "code",
      "source": [
        "#Assume that you are ticket verifier at a club. Your club has decided to give a special discount to the person(s) who are satisfying the following condition\n",
        "#Condition:-\n",
        "#If ticket number is divisible by date of month. You are eligible for a discount.\n",
        "#Input Description:\n",
        "#First line contains input ‘n’.Next line contains n space separated numbers denoting ticket numbers .Next line contains ‘k’ date of the month.\n",
        "#Output Description:\n",
        "#Print 1 if the ticket is eligible for discount else 0\n",
        "#Sample Input :\n",
        "#6\n",
        "#112 139 165 175 262 130\n",
        "#22\n",
        "#Sample Output :\n",
        "#0 0 0 0 0 0\n",
        "\n",
        "a=int(input())\n",
        "arr=list(map(int,input().split()))\n",
        "date=int(input())\n",
        "arr1=[]\n",
        "for i in range (a):\n",
        "  if arr[i]%date==0 :\n",
        "    arr1.append(1)\n",
        "  else:\n",
        "    arr1.append(0)\n",
        "print(*arr1)"
      ],
      "metadata": {
        "colab": {
          "base_uri": "https://localhost:8080/"
        },
        "id": "wxxQhn0wjj_p",
        "outputId": "48292249-c81f-4e6f-c238-f3fa146cc83e"
      },
      "execution_count": 8,
      "outputs": [
        {
          "output_type": "stream",
          "name": "stdout",
          "text": [
            "6\n",
            "112 139 165 175 262 130\n",
            "22\n",
            "0 0 0 0 0 0\n"
          ]
        }
      ]
    },
    {
      "cell_type": "code",
      "source": [
        "#Given a number N, print 'yes' if it is a multiple of 13 else print 'no'.\n",
        "#Sample Testcase :\n",
        "#INPUT\n",
        "#26\n",
        "#OUTPUT\n",
        "#yes\n",
        "\n",
        "n=int(input())\n",
        "if n%13==0:\n",
        "  print(\"yes\")\n",
        "else:\n",
        "  print(\"no\")"
      ],
      "metadata": {
        "colab": {
          "base_uri": "https://localhost:8080/"
        },
        "id": "PgpfI3zmjj8E",
        "outputId": "c2dcc3b1-2dc0-40e3-d213-e8990358a766"
      },
      "execution_count": 9,
      "outputs": [
        {
          "output_type": "stream",
          "name": "stdout",
          "text": [
            "26\n",
            "yes\n"
          ]
        }
      ]
    },
    {
      "cell_type": "code",
      "source": [
        "#A person saves his monthly saving according to given schema. He saves same amount of money which is equal to the money saved in immediate previous two months. Assume, initially he saved 1000 rupees and in first month he saved another 1000. Your task is to tell how much he had totally saved at the end of ‘n’ months\n",
        "#Input Description:\n",
        "#You will be given a number ‘n’->No. of months\n",
        "#Output Description:\n",
        "#Print the total savings at the end of ‘n’ months\n",
        "#Sample Input :\n",
        "#1\n",
        "#Sample Output :\n",
        "#2000\n",
        "\n",
        "a=int(input())\n",
        "if a<=2:\n",
        "  print(2000*a)\n",
        "else:\n",
        "  print((2000*a)+1000)"
      ],
      "metadata": {
        "colab": {
          "base_uri": "https://localhost:8080/"
        },
        "id": "Cy7UyuAGjj5u",
        "outputId": "fab29b14-eeba-405d-ba0b-b99800d011d7"
      },
      "execution_count": 10,
      "outputs": [
        {
          "output_type": "stream",
          "name": "stdout",
          "text": [
            "1\n",
            "2000\n"
          ]
        }
      ]
    },
    {
      "cell_type": "code",
      "source": [
        "#You are given a task to tell whether the number is pure or not. A pure number is a number whose sum of digits is multiple of 3.\n",
        "#O(1) time and O(1) space\n",
        "#Input Description:\n",
        "#You are given a number n.\n",
        "#Output Description:\n",
        "#Print yes if it is pure else not\n",
        "#Sample Input :\n",
        "#13\n",
        "#Sample Output :\n",
        "#not\n",
        "\n",
        "a=input()\n",
        "r=0\n",
        "for i in a:\n",
        "    r += int(i)\n",
        "if r %3 == 0:\n",
        "    print('yes')\n",
        "else:\n",
        "    print('not')"
      ],
      "metadata": {
        "colab": {
          "base_uri": "https://localhost:8080/"
        },
        "id": "Ol05Fup-jj3W",
        "outputId": "4d65849d-e280-40e5-8f8f-1b80e7213c2f"
      },
      "execution_count": 11,
      "outputs": [
        {
          "output_type": "stream",
          "name": "stdout",
          "text": [
            "13\n",
            "not\n"
          ]
        }
      ]
    },
    {
      "cell_type": "code",
      "source": [
        "#Given 3 numbers N , L and R. Print 'yes' if N is between L and R else print 'no'.\n",
        "#Sample Testcase :\n",
        "#INPUT\n",
        "#3\n",
        "#2 6\n",
        "#OUTPUT\n",
        "#yes\n",
        "\n",
        "N=int(input())\n",
        "L,R=map(int,input().split())\n",
        "if (L<N and N<R):\n",
        "  print(\"yes\")\n",
        "else:\n",
        "  print(\"no\")"
      ],
      "metadata": {
        "colab": {
          "base_uri": "https://localhost:8080/"
        },
        "id": "nqaPuKKrkfXl",
        "outputId": "3dbc4f0e-bf0d-40e2-d8e0-4c6e6862e1bd"
      },
      "execution_count": 12,
      "outputs": [
        {
          "output_type": "stream",
          "name": "stdout",
          "text": [
            "3\n",
            "2 6\n",
            "yes\n"
          ]
        }
      ]
    },
    {
      "cell_type": "code",
      "source": [
        "#You are given with a number ‘n’. You have to count the pair of two numbers a and b such that sum of two numbers are equal to n.\n",
        "#Note:Both numbers lie in range 1<=a,b<n\n",
        "#Input Description:\n",
        "#You are given a number ‘n’\n",
        "#Output Description:\n",
        "#Print the number of pairs satisfying above condition\n",
        "#Sample Input :\n",
        "#5\n",
        "#Sample Output :\n",
        "#4\n",
        "x=int(input())\n",
        "count=0\n",
        "for i in range(1,x):\n",
        "  b=x-i\n",
        "  if 1<=b<x:\n",
        "    count+=1\n",
        "print(count)"
      ],
      "metadata": {
        "colab": {
          "base_uri": "https://localhost:8080/"
        },
        "id": "6kMOVg_tkfUH",
        "outputId": "fdb9ceb6-bb0e-4ff7-acf7-88c86a9f812f"
      },
      "execution_count": 13,
      "outputs": [
        {
          "output_type": "stream",
          "name": "stdout",
          "text": [
            "5\n",
            "4\n"
          ]
        }
      ]
    },
    {
      "cell_type": "code",
      "source": [
        "#Count the number of digits of a given number N.Size of the integer ranges from 1Sample Testcases :\n",
        "#INPUT\n",
        "#548\n",
        "#OUTPUT\n",
        "#3\n",
        "\n",
        "n=input()\n",
        "print(len(str(n)))"
      ],
      "metadata": {
        "colab": {
          "base_uri": "https://localhost:8080/"
        },
        "id": "MhOnTYdSkfRe",
        "outputId": "572639dd-8106-4783-b7eb-00756fbb47bd"
      },
      "execution_count": 14,
      "outputs": [
        {
          "output_type": "stream",
          "name": "stdout",
          "text": [
            "548\n",
            "3\n"
          ]
        }
      ]
    },
    {
      "cell_type": "code",
      "source": [
        "#Given 2 numbers N,M. Find their difference and check whether it is even or odd.\n",
        "#Sample Testcase :\n",
        "#INPUT\n",
        "#5 5\n",
        "#OUTPUT\n",
        "#even\n",
        "\n",
        "n,m=map(int,input().split())\n",
        "difference=abs(n-m)\n",
        "if difference%2==0:\n",
        "  print(\"even\")\n",
        "else:\n",
        "  print('odd')"
      ],
      "metadata": {
        "colab": {
          "base_uri": "https://localhost:8080/"
        },
        "id": "2ptwhDZ-lFX9",
        "outputId": "11ef0606-e4ec-4f58-b0d3-fd139227d8c1"
      },
      "execution_count": 15,
      "outputs": [
        {
          "output_type": "stream",
          "name": "stdout",
          "text": [
            "5 5\n",
            "even\n"
          ]
        }
      ]
    },
    {
      "cell_type": "code",
      "source": [
        "#In XYZ country there is rule that car’s engine no. depends upon car’ number plate. Engine no is sum of all the integers present on car’s Number plate.The issuing authority has hired you in order to provide engine no. to the cars.Your task is to develop an algorithm which takes input as in form of string(Number plate) and gives back\n",
        "#Engine number.\n",
        "#Input Description:\n",
        "#You are given a string ’s’\n",
        "#Output Description:\n",
        "#Print the engine number\n",
        "#Sample Input :\n",
        "#HR05-AA-2669\n",
        "#Sample Output :\n",
        "#28\n",
        "\n",
        "platenum=input()\n",
        "numbers=\"1234567890\"\n",
        "sum=0\n",
        "for i in platenum:\n",
        "  if i in numbers:\n",
        "    sum+=int(i)\n",
        "print(sum)"
      ],
      "metadata": {
        "colab": {
          "base_uri": "https://localhost:8080/"
        },
        "id": "bi8qm-1zlQTr",
        "outputId": "36f50bb4-9de6-4220-843d-5c108bddd215"
      },
      "execution_count": 16,
      "outputs": [
        {
          "output_type": "stream",
          "name": "stdout",
          "text": [
            "HR05-AA-2669\n",
            "28\n"
          ]
        }
      ]
    },
    {
      "cell_type": "code",
      "source": [
        "#Given a number N, print the odd digits in the number(space seperated) or print -1 if there is no odd digit in the given number.\n",
        "#Input Size : N <= 100000\n",
        "#Sample Testcase :\n",
        "#INPUT\n",
        "#2143\n",
        "#OUTPUT\n",
        "#1 3\n",
        "\n",
        "num=input()\n",
        "odd_digits=[]\n",
        "\n",
        "for digit in num:\n",
        "    if int(digit)%2!=0:\n",
        "        odd_digits.append(digit)\n",
        "if odd_digits:\n",
        "    print(\" \".join(odd_digits))\n",
        "else:\n",
        "    print(-1)"
      ],
      "metadata": {
        "colab": {
          "base_uri": "https://localhost:8080/"
        },
        "id": "ATUy-1oKlkwE",
        "outputId": "26152c96-5893-43b6-aced-5fb8b7da1041"
      },
      "execution_count": 17,
      "outputs": [
        {
          "output_type": "stream",
          "name": "stdout",
          "text": [
            "2143\n",
            "1 3\n"
          ]
        }
      ]
    },
    {
      "cell_type": "code",
      "source": [
        "#Given a number N, print the product of the digits.\n",
        "#Input Size : N <= 100000000000\n",
        "#Sample Testcase :\n",
        "#INPUT\n",
        "#2143\n",
        "#OUTPUT\n",
        "#24\n",
        "\n",
        "n=input()\n",
        "product=1\n",
        "for digit in n:\n",
        "  product*=int(digit)\n",
        "print(product)"
      ],
      "metadata": {
        "colab": {
          "base_uri": "https://localhost:8080/"
        },
        "id": "fTJHUPodlujf",
        "outputId": "8de15312-e25a-4aa7-cad4-198b47c5f86b"
      },
      "execution_count": 18,
      "outputs": [
        {
          "output_type": "stream",
          "name": "stdout",
          "text": [
            "2143\n",
            "24\n"
          ]
        }
      ]
    },
    {
      "cell_type": "code",
      "source": [
        "#Given a number N, find its next immediate greater power of 2(i.e 2^1, 2^2, 2^3...).\n",
        "#Input Size : N <= 1000\n",
        "#Sample Testcase :\n",
        "#INPUT\n",
        "#4\n",
        "#OUTPUT\n",
        "#8\n",
        "import math\n",
        "n=int(input())\n",
        "x=2**math.ceil(math.log2(n+1))\n",
        "print(x)"
      ],
      "metadata": {
        "colab": {
          "base_uri": "https://localhost:8080/"
        },
        "id": "o7aLk6ZBl8Ru",
        "outputId": "cf5aa55e-78c2-4484-b1cb-5fe660b75724"
      },
      "execution_count": 20,
      "outputs": [
        {
          "output_type": "stream",
          "name": "stdout",
          "text": [
            "4\n",
            "8\n"
          ]
        }
      ]
    },
    {
      "cell_type": "code",
      "source": [
        "#Sreelatha was confused with series. She is given with a number ‘n’. There is a pattern hidden the series. She has to understand and print  the series till nth number by looking into example.Sreelatha is confused and She hired you , you have to develop the series for sreelatha by observing the pattern from the below example.\n",
        "#Input Description:\n",
        "#She is given with a number ‘n’.\n",
        "#Output Description:\n",
        "#print  the series till nth number\n",
        "#Sample Input :\n",
        "#3\n",
        "#Sample Output :\n",
        "#1 9 36\n",
        "n=int(input())\n",
        "x=[0]\n",
        "for i in range(1,n+1):\n",
        "  s=x[-1]+i**3\n",
        "  x.append(s)\n",
        "print(*x[1:])\n"
      ],
      "metadata": {
        "colab": {
          "base_uri": "https://localhost:8080/"
        },
        "id": "QP8_kbUfl_Pn",
        "outputId": "55a8cc82-9ca4-4248-becd-15e934ebeb51"
      },
      "execution_count": 21,
      "outputs": [
        {
          "output_type": "stream",
          "name": "stdout",
          "text": [
            "3\n",
            "1 9 36\n"
          ]
        }
      ]
    },
    {
      "cell_type": "code",
      "source": [
        "#Write a program to print the sum of the first K natural numbers.\n",
        "#Input Size : n <= 100000\n",
        "#Sample Testcase :\n",
        "#INPUT\n",
        "#3\n",
        "#OUTPUT\n",
        "#6\n",
        "k=int(input())\n",
        "if k<0:\n",
        "  print(\"pasitive numbers.\")\n",
        "else:\n",
        "    val=0\n",
        "    while(k>0):\n",
        "      val=val+k\n",
        "      k=k-1\n",
        "print(val)\n"
      ],
      "metadata": {
        "colab": {
          "base_uri": "https://localhost:8080/"
        },
        "id": "Tdew_GaomRNO",
        "outputId": "8d2e3138-6bec-4835-e03e-c24a58b8a5fd"
      },
      "execution_count": 22,
      "outputs": [
        {
          "output_type": "stream",
          "name": "stdout",
          "text": [
            "3\n",
            "6\n"
          ]
        }
      ]
    },
    {
      "cell_type": "code",
      "source": [
        "#Given a number N, find the nearest greater multiple of 10.\n",
        "#Input Size : N <= 10000\n",
        "#Sample Testcase :\n",
        "#INPUT\n",
        "#3\n",
        "#OUTPUT\n",
        "#10\n",
        "n=int(input())\n",
        "a=(n//10)*10\n",
        "\n",
        "b=a+10\n",
        "print(b)"
      ],
      "metadata": {
        "colab": {
          "base_uri": "https://localhost:8080/"
        },
        "id": "P0O6i60xmc1J",
        "outputId": "e230ed90-299c-4613-a231-64ca061187c8"
      },
      "execution_count": 23,
      "outputs": [
        {
          "output_type": "stream",
          "name": "stdout",
          "text": [
            "3\n",
            "10\n"
          ]
        }
      ]
    },
    {
      "cell_type": "code",
      "source": [
        "#Ajay is given a series(In example).he gone through the series but unable to understand it properly,he has hired you.Your task is to understand the series and print the series 2,6,12,20,30... .You are given with a number ‘n’. Find the nth number of series.\n",
        "#Input Description:\n",
        "#You are given a number ‘n’.\n",
        "#Output Description:\n",
        "#Print the nth number of series\n",
        "#Sample Input :\n",
        "#5\n",
        "#Sample Output :\n",
        "#30\n",
        "n=int(input())\n",
        "\n",
        "for i in range(1,n+1):\n",
        "  a=i*(i+1)\n",
        "print(a)"
      ],
      "metadata": {
        "colab": {
          "base_uri": "https://localhost:8080/"
        },
        "id": "f1XN9KW8mj5R",
        "outputId": "e3624996-349e-414d-c3ea-9cfc97ba04d6"
      },
      "execution_count": 24,
      "outputs": [
        {
          "output_type": "stream",
          "name": "stdout",
          "text": [
            "5\n",
            "30\n"
          ]
        }
      ]
    },
    {
      "cell_type": "code",
      "source": [
        "#Given 3 numbers a,b,c print a*b mod c.\n",
        "#Sample Testcase :\n",
        "#INPUT\n",
        "#5 3 2\n",
        "#OUTPUT\n",
        "#1\n",
        "a,b,c=list(map(int,input().split()))\n",
        "x=(a*b)%c\n",
        "print(x)"
      ],
      "metadata": {
        "colab": {
          "base_uri": "https://localhost:8080/"
        },
        "id": "xti5o8Bqm0iv",
        "outputId": "9cc92001-70c6-476e-fd1a-09ddee85e7e5"
      },
      "execution_count": 25,
      "outputs": [
        {
          "output_type": "stream",
          "name": "stdout",
          "text": [
            "5 3 2\n",
            "1\n"
          ]
        }
      ]
    },
    {
      "cell_type": "code",
      "source": [
        "#You are given given task is to print whether array is ‘majestic’ or not.A ‘majsetic’ array is an array whose sum of first three number is equal to last three number.\n",
        "#Input Description:\n",
        "#You are given a number ‘n’,Next line contains ‘n’ space separated\n",
        "#Output Description:\n",
        "#Print 1 if array is majestic and 0 if it is not\n",
        "#Sample Input :\n",
        "#7\n",
        "#1 2 3 4 6 0 0\n",
        "#Sample Output :\n",
        "#1\n",
        "n=int(input())\n",
        "s=list(map(int,input().split()))\n",
        "if(s[0]+s[1]+s[2]==s[-3]+s[-2]+s[-1]):\n",
        "  print(\"1\")\n",
        "else:\n",
        "  print(\"0\")"
      ],
      "metadata": {
        "colab": {
          "base_uri": "https://localhost:8080/"
        },
        "id": "zzD5365mm0fX",
        "outputId": "d875cf01-6054-436a-cb37-3910c206ec75"
      },
      "execution_count": 26,
      "outputs": [
        {
          "output_type": "stream",
          "name": "stdout",
          "text": [
            "7\n",
            "1 2 3 4 6 0 0\n",
            "1\n"
          ]
        }
      ]
    },
    {
      "cell_type": "code",
      "source": [
        "#Pk finds it difficult to judge the minimum element in the list of elements given to him. Your task is to develop the algorithm in order to find the minimum element.\n",
        "#Note:Don’t use sorting\n",
        "#Input Description:\n",
        "#You are given ‘n’ number of elements. Next line contains n space separated numbers.\n",
        "#Output Description:\n",
        "#Print the minimum element\n",
        "#Sample Input :\n",
        "#5\n",
        "#3 4 9 1 6\n",
        "#Sample Output :\n",
        "#1\n",
        "\n",
        "s=int(input())\n",
        "n=list(map(int,input().split()))\n",
        "print(min(n))"
      ],
      "metadata": {
        "colab": {
          "base_uri": "https://localhost:8080/"
        },
        "id": "fYCVvU5cnPRz",
        "outputId": "505d6f45-f29f-4f4b-bb0b-b9d470eba76e"
      },
      "execution_count": 27,
      "outputs": [
        {
          "output_type": "stream",
          "name": "stdout",
          "text": [
            "5\n",
            "3 4 9 1 6\n",
            "1\n"
          ]
        }
      ]
    },
    {
      "cell_type": "code",
      "source": [
        "#Given a number N, print 'yes' if it is composite else print 'no'.\n",
        "#Sample Testcase :\n",
        "#INPUT\n",
        "#123\n",
        "#OUTPUT\n",
        "#yes\n",
        "n=int(input())\n",
        "count=0\n",
        "for i in range(1,n):\n",
        "  if n%i==0:\n",
        "     count+=1\n",
        "if count>2:\n",
        "  print(\"yes\")\n",
        "else:\n",
        "  print(\"no\")"
      ],
      "metadata": {
        "colab": {
          "base_uri": "https://localhost:8080/"
        },
        "id": "lAHPUSDinehB",
        "outputId": "cd6e38be-f152-43bc-fb85-cc5568d8dafc"
      },
      "execution_count": 28,
      "outputs": [
        {
          "output_type": "stream",
          "name": "stdout",
          "text": [
            "123\n",
            "yes\n"
          ]
        }
      ]
    },
    {
      "cell_type": "code",
      "source": [
        "#You are given with a string which comprises of some numbers. Your task is to find the largest integer by converting the string to the corresponding integer.\n",
        "#Input Description:\n",
        "#First line contains n denoting number of Test Cases. The first and only Line of testcase has the string\n",
        "#Output Description:\n",
        "#Print the largest number\n",
        "#Sample Input :\n",
        " #I was born on 12 october 1998.\n",
        "#Sample Output :\n",
        "#1998\n",
        "a=input()\n",
        "b=a.replace(\".\",\" \")\n",
        "c=[]\n",
        "for i in b.split():\n",
        "  if i.isnumeric():\n",
        "    c.append(int(i))\n",
        "\n",
        "print(max(c))"
      ],
      "metadata": {
        "colab": {
          "base_uri": "https://localhost:8080/"
        },
        "id": "8K-6QtIdnpR-",
        "outputId": "7c700c04-9d22-478f-f7d2-1742827c3f34"
      },
      "execution_count": 29,
      "outputs": [
        {
          "output_type": "stream",
          "name": "stdout",
          "text": [
            "I was born on 12 october 1998\n",
            "1998\n"
          ]
        }
      ]
    },
    {
      "cell_type": "code",
      "source": [
        "#Write a program to calculate the total surface area and volume of cuboid. Input contains three space separated positive integers L, B, H denoting the length, width and height of cuboid respectively.\n",
        "#Sample Testcase :\n",
        "#INPUT\n",
        "#1 2 3\n",
        "#OUTPUT\n",
        "#22 6\n",
        "\n",
        "l,b,h=list(map(int,input().split()))\n",
        "area=(l*b+b*h+h*l)\n",
        "x=2*area\n",
        "vol=l*b*h\n",
        "print(x,vol)\n"
      ],
      "metadata": {
        "colab": {
          "base_uri": "https://localhost:8080/"
        },
        "id": "cXZJVRlxn4aM",
        "outputId": "306379e5-4307-4cb7-dcd0-8282255fd051"
      },
      "execution_count": 30,
      "outputs": [
        {
          "output_type": "stream",
          "name": "stdout",
          "text": [
            "1 2 3\n",
            "22 6\n"
          ]
        }
      ]
    },
    {
      "cell_type": "code",
      "source": [
        "#Given 2 numbers N,M. Print 'yes' if their product is a perfect square else print 'no'.\n",
        "#Sample Testcase :\n",
        "#INPUT\n",
        "#5 5\n",
        "#OUTPUT\n",
        "#yes\n",
        "n,m=map(int,input().split())\n",
        "x=n*m\n",
        "if x**0.5==n:\n",
        "   print(\"yes\")\n",
        "else:\n",
        "   print(\"no\")\n"
      ],
      "metadata": {
        "colab": {
          "base_uri": "https://localhost:8080/"
        },
        "id": "mi_mO9NWoCoW",
        "outputId": "7bf41931-c870-4fee-a30d-e308808588bd"
      },
      "execution_count": 31,
      "outputs": [
        {
          "output_type": "stream",
          "name": "stdout",
          "text": [
            "5 5\n",
            "yes\n"
          ]
        }
      ]
    },
    {
      "cell_type": "code",
      "source": [
        "#Given a number N, print its reverse.\n",
        "#Input Size : n <= 1000\n",
        "#Sample Testcase :\n",
        "#INPUT\n",
        "#10\n",
        "#OUTPUT\n",
        "#1\n",
        "n=int(input())\n",
        "rev=0\n",
        "while(n>0):\n",
        "  a=n%10\n",
        "  rev=rev*10+a\n",
        "  n=n//10\n",
        "print(rev)"
      ],
      "metadata": {
        "colab": {
          "base_uri": "https://localhost:8080/"
        },
        "id": "fhCFqqueoLz0",
        "outputId": "351442b3-6c8a-459c-c601-667ea8601b4c"
      },
      "execution_count": 32,
      "outputs": [
        {
          "output_type": "stream",
          "name": "stdout",
          "text": [
            "10\n",
            "1\n"
          ]
        }
      ]
    },
    {
      "cell_type": "code",
      "source": [
        "#Given the values of a,b and x in the equation ax + b = y. Find the value of y.\n",
        "#Sample Testcase :\n",
        "#INPUT\n",
        "#3 5 2\n",
        "#OUTPUT\n",
        "#11\n",
        "a,b,x=list(map(int,input().split()))\n",
        "y=a*x+b\n",
        "print(y)"
      ],
      "metadata": {
        "colab": {
          "base_uri": "https://localhost:8080/"
        },
        "id": "7DZFj0jPoXWk",
        "outputId": "b6bb2bd6-162c-4ab6-d899-91c5899dde88"
      },
      "execution_count": 33,
      "outputs": [
        {
          "output_type": "stream",
          "name": "stdout",
          "text": [
            "3 5 2\n",
            "11\n"
          ]
        }
      ]
    }
  ]
}